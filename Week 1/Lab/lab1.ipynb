{
 "cells": [
  {
   "cell_type": "markdown",
   "id": "1d95116d-5f94-4bf1-bf66-12e4a2adb5da",
   "metadata": {},
   "source": [
    "# Questions - Lab Session I"
   ]
  },
  {
   "cell_type": "markdown",
   "id": "4f8b265c-3d43-41f7-a0ca-55e7eda0188f",
   "metadata": {},
   "source": [
    "### 1-Make the following Changes On the Streamlit app"
   ]
  },
  {
   "cell_type": "markdown",
   "id": "d8fed84d-6f87-4a65-aebb-0fb5688a30da",
   "metadata": {},
   "source": [
    "__a__ - Use 'sample' instead of 'head' in the streamlit app. The app must be stable after you select the patient from the patient list\n",
    "<br>\n",
    "__b__ - Modify the app by adding a button. The app should bring the raw features if the user click the button instead of default loading.\n",
    "<br>\n",
    "__c__ - Create a slider as age. The slider can be slided between 15 to 100 interval. When you slide it the selected patient's age variable must be changed with slided value and the calculations must be updated with the new input.\n",
    "\n"
   ]
  },
  {
   "cell_type": "markdown",
   "id": "5960041a-a0e7-458d-989f-9515b946d629",
   "metadata": {},
   "source": [
    "### 2- Modify the FastApi app"
   ]
  },
  {
   "cell_type": "markdown",
   "id": "0fccb145-2969-4109-afaf-b8fb0b4ab7a9",
   "metadata": {},
   "source": [
    "__a__ Create an input model by using pydantic datamodels. You are free to implement your own datamodel up to your taste, feel free to try Enum, str, int whatever you like.\n",
    "<br>\n",
    "__b__ Define a default value for the race column as 'Other'. If the user gives doesn't provide the information the API must set it as 'Other'\n",
    "<br>\n",
    "__c__ Define a response body including Score, Class and runtime informations "
   ]
  },
  {
   "cell_type": "markdown",
   "id": "f81ca444",
   "metadata": {},
   "source": [
    "# Imports"
   ]
  },
  {
   "cell_type": "code",
   "execution_count": 1,
   "id": "6b0a682b",
   "metadata": {},
   "outputs": [],
   "source": [
    "import io\n",
    "import requests\n",
    "import zipfile\n",
    "import re\n",
    "import os\n",
    "import copy\n",
    "import numpy as np\n",
    "import pandas as pd\n",
    "from pyarrow import parquet as pq\n",
    "from matplotlib import pyplot as plt\n",
    "from sklearn.model_selection import train_test_split\n",
    "from catboost import Pool, CatBoostClassifier"
   ]
  },
  {
   "cell_type": "code",
   "execution_count": 2,
   "id": "5f96fd6b",
   "metadata": {},
   "outputs": [],
   "source": [
    "pd.options.display.max_rows = 999\n",
    "pd.options.display.max_colwidth = None"
   ]
  },
  {
   "cell_type": "markdown",
   "id": "8f00d63c",
   "metadata": {},
   "source": [
    "# Getting the Data"
   ]
  },
  {
   "cell_type": "code",
   "execution_count": 3,
   "id": "6d6b3aaa",
   "metadata": {},
   "outputs": [],
   "source": [
    "zip_file_url = 'https://archive.ics.uci.edu/static/public/296/diabetes+130-us+hospitals+for+years+1999-2008.zip'\n",
    "\n",
    "r = requests.get(zip_file_url)\n",
    "z = zipfile.ZipFile(io.BytesIO(r.content))\n",
    "z.extractall(\"./\")"
   ]
  },
  {
   "cell_type": "markdown",
   "id": "fd49b741",
   "metadata": {},
   "source": [
    "# Import Data"
   ]
  },
  {
   "cell_type": "markdown",
   "id": "f1ff24d6",
   "metadata": {},
   "source": [
    "## From CSV"
   ]
  },
  {
   "cell_type": "code",
   "execution_count": 4,
   "id": "cf1d14a6",
   "metadata": {},
   "outputs": [
    {
     "name": "stdout",
     "output_type": "stream",
     "text": [
      "CPU times: total: 250 ms\n",
      "Wall time: 470 ms\n"
     ]
    }
   ],
   "source": [
    "%%time\n",
    "\n",
    "df = pd.read_csv('./diabetic_data.csv')"
   ]
  },
  {
   "cell_type": "markdown",
   "id": "b667ed8a",
   "metadata": {},
   "source": [
    "## From parquet by using pyarrow"
   ]
  },
  {
   "cell_type": "code",
   "execution_count": 5,
   "id": "9cf7a7fc",
   "metadata": {},
   "outputs": [],
   "source": [
    "df.to_parquet('./diabetes.pq')\n",
    "\n",
    "del df # redundant"
   ]
  },
  {
   "cell_type": "code",
   "execution_count": 6,
   "id": "fd86ce55",
   "metadata": {},
   "outputs": [
    {
     "name": "stdout",
     "output_type": "stream",
     "text": [
      "CPU times: total: 250 ms\n",
      "Wall time: 333 ms\n"
     ]
    }
   ],
   "source": [
    "%%time\n",
    "\n",
    "df = pq.read_table('./diabetes.pq').to_pandas()"
   ]
  },
  {
   "cell_type": "code",
   "execution_count": 7,
   "id": "10791d86",
   "metadata": {},
   "outputs": [
    {
     "data": {
      "text/plain": [
       "pyarrow.Table\n",
       "encounter_id: int64\n",
       "patient_nbr: int64\n",
       "race: string\n",
       "gender: string\n",
       "age: string\n",
       "weight: string\n",
       "admission_type_id: int64\n",
       "discharge_disposition_id: int64\n",
       "admission_source_id: int64\n",
       "time_in_hospital: int64\n",
       "payer_code: string\n",
       "medical_specialty: string\n",
       "num_lab_procedures: int64\n",
       "num_procedures: int64\n",
       "num_medications: int64\n",
       "number_outpatient: int64\n",
       "number_emergency: int64\n",
       "number_inpatient: int64\n",
       "diag_1: string\n",
       "diag_2: string\n",
       "diag_3: string\n",
       "number_diagnoses: int64\n",
       "max_glu_serum: string\n",
       "A1Cresult: string\n",
       "metformin: string\n",
       "repaglinide: string\n",
       "nateglinide: string\n",
       "chlorpropamide: string\n",
       "glimepiride: string\n",
       "acetohexamide: string\n",
       "glipizide: string\n",
       "glyburide: string\n",
       "tolbutamide: string\n",
       "pioglitazone: string\n",
       "rosiglitazone: string\n",
       "acarbose: string\n",
       "miglitol: string\n",
       "troglitazone: string\n",
       "tolazamide: string\n",
       "examide: string\n",
       "citoglipton: string\n",
       "insulin: string\n",
       "glyburide-metformin: string\n",
       "glipizide-metformin: string\n",
       "glimepiride-pioglitazone: string\n",
       "metformin-rosiglitazone: string\n",
       "metformin-pioglitazone: string\n",
       "change: string\n",
       "diabetesMed: string\n",
       "readmitted: string\n",
       "----\n",
       "encounter_id: [[2278392,149190,64410,500364,16680,...,443847548,443847782,443854148,443857166,443867222]]\n",
       "patient_nbr: [[8222157,55629189,86047875,82442376,42519267,...,100162476,74694222,41088789,31693671,175429310]]\n",
       "race: [[\"Caucasian\",\"Caucasian\",\"AfricanAmerican\",\"Caucasian\",\"Caucasian\",...,\"AfricanAmerican\",\"AfricanAmerican\",\"Caucasian\",\"Caucasian\",\"Caucasian\"]]\n",
       "gender: [[\"Female\",\"Female\",\"Female\",\"Male\",\"Male\",...,\"Male\",\"Female\",\"Male\",\"Female\",\"Male\"]]\n",
       "age: [[\"[0-10)\",\"[10-20)\",\"[20-30)\",\"[30-40)\",\"[40-50)\",...,\"[70-80)\",\"[80-90)\",\"[70-80)\",\"[80-90)\",\"[70-80)\"]]\n",
       "weight: [[\"?\",\"?\",\"?\",\"?\",\"?\",...,\"?\",\"?\",\"?\",\"?\",\"?\"]]\n",
       "admission_type_id: [[6,1,1,1,1,...,1,1,1,2,1]]\n",
       "discharge_disposition_id: [[25,1,1,1,1,...,3,4,1,3,1]]\n",
       "admission_source_id: [[1,7,7,7,7,...,7,5,7,7,7]]\n",
       "time_in_hospital: [[1,3,2,2,1,...,3,5,1,10,6]]\n",
       "..."
      ]
     },
     "execution_count": 7,
     "metadata": {},
     "output_type": "execute_result"
    }
   ],
   "source": [
    "pq.read_table('./diabetes.pq')"
   ]
  },
  {
   "cell_type": "code",
   "execution_count": 8,
   "id": "f04a8304",
   "metadata": {},
   "outputs": [
    {
     "data": {
      "text/html": [
       "<div>\n",
       "<style scoped>\n",
       "    .dataframe tbody tr th:only-of-type {\n",
       "        vertical-align: middle;\n",
       "    }\n",
       "\n",
       "    .dataframe tbody tr th {\n",
       "        vertical-align: top;\n",
       "    }\n",
       "\n",
       "    .dataframe thead th {\n",
       "        text-align: right;\n",
       "    }\n",
       "</style>\n",
       "<table border=\"1\" class=\"dataframe\">\n",
       "  <thead>\n",
       "    <tr style=\"text-align: right;\">\n",
       "      <th></th>\n",
       "      <th>encounter_id</th>\n",
       "      <th>patient_nbr</th>\n",
       "      <th>race</th>\n",
       "      <th>gender</th>\n",
       "      <th>age</th>\n",
       "      <th>weight</th>\n",
       "      <th>admission_type_id</th>\n",
       "      <th>discharge_disposition_id</th>\n",
       "      <th>admission_source_id</th>\n",
       "      <th>time_in_hospital</th>\n",
       "      <th>...</th>\n",
       "      <th>citoglipton</th>\n",
       "      <th>insulin</th>\n",
       "      <th>glyburide-metformin</th>\n",
       "      <th>glipizide-metformin</th>\n",
       "      <th>glimepiride-pioglitazone</th>\n",
       "      <th>metformin-rosiglitazone</th>\n",
       "      <th>metformin-pioglitazone</th>\n",
       "      <th>change</th>\n",
       "      <th>diabetesMed</th>\n",
       "      <th>readmitted</th>\n",
       "    </tr>\n",
       "  </thead>\n",
       "  <tbody>\n",
       "    <tr>\n",
       "      <th>0</th>\n",
       "      <td>2278392</td>\n",
       "      <td>8222157</td>\n",
       "      <td>Caucasian</td>\n",
       "      <td>Female</td>\n",
       "      <td>[0-10)</td>\n",
       "      <td>?</td>\n",
       "      <td>6</td>\n",
       "      <td>25</td>\n",
       "      <td>1</td>\n",
       "      <td>1</td>\n",
       "      <td>...</td>\n",
       "      <td>No</td>\n",
       "      <td>No</td>\n",
       "      <td>No</td>\n",
       "      <td>No</td>\n",
       "      <td>No</td>\n",
       "      <td>No</td>\n",
       "      <td>No</td>\n",
       "      <td>No</td>\n",
       "      <td>No</td>\n",
       "      <td>NO</td>\n",
       "    </tr>\n",
       "    <tr>\n",
       "      <th>1</th>\n",
       "      <td>149190</td>\n",
       "      <td>55629189</td>\n",
       "      <td>Caucasian</td>\n",
       "      <td>Female</td>\n",
       "      <td>[10-20)</td>\n",
       "      <td>?</td>\n",
       "      <td>1</td>\n",
       "      <td>1</td>\n",
       "      <td>7</td>\n",
       "      <td>3</td>\n",
       "      <td>...</td>\n",
       "      <td>No</td>\n",
       "      <td>Up</td>\n",
       "      <td>No</td>\n",
       "      <td>No</td>\n",
       "      <td>No</td>\n",
       "      <td>No</td>\n",
       "      <td>No</td>\n",
       "      <td>Ch</td>\n",
       "      <td>Yes</td>\n",
       "      <td>&gt;30</td>\n",
       "    </tr>\n",
       "    <tr>\n",
       "      <th>2</th>\n",
       "      <td>64410</td>\n",
       "      <td>86047875</td>\n",
       "      <td>AfricanAmerican</td>\n",
       "      <td>Female</td>\n",
       "      <td>[20-30)</td>\n",
       "      <td>?</td>\n",
       "      <td>1</td>\n",
       "      <td>1</td>\n",
       "      <td>7</td>\n",
       "      <td>2</td>\n",
       "      <td>...</td>\n",
       "      <td>No</td>\n",
       "      <td>No</td>\n",
       "      <td>No</td>\n",
       "      <td>No</td>\n",
       "      <td>No</td>\n",
       "      <td>No</td>\n",
       "      <td>No</td>\n",
       "      <td>No</td>\n",
       "      <td>Yes</td>\n",
       "      <td>NO</td>\n",
       "    </tr>\n",
       "    <tr>\n",
       "      <th>3</th>\n",
       "      <td>500364</td>\n",
       "      <td>82442376</td>\n",
       "      <td>Caucasian</td>\n",
       "      <td>Male</td>\n",
       "      <td>[30-40)</td>\n",
       "      <td>?</td>\n",
       "      <td>1</td>\n",
       "      <td>1</td>\n",
       "      <td>7</td>\n",
       "      <td>2</td>\n",
       "      <td>...</td>\n",
       "      <td>No</td>\n",
       "      <td>Up</td>\n",
       "      <td>No</td>\n",
       "      <td>No</td>\n",
       "      <td>No</td>\n",
       "      <td>No</td>\n",
       "      <td>No</td>\n",
       "      <td>Ch</td>\n",
       "      <td>Yes</td>\n",
       "      <td>NO</td>\n",
       "    </tr>\n",
       "    <tr>\n",
       "      <th>4</th>\n",
       "      <td>16680</td>\n",
       "      <td>42519267</td>\n",
       "      <td>Caucasian</td>\n",
       "      <td>Male</td>\n",
       "      <td>[40-50)</td>\n",
       "      <td>?</td>\n",
       "      <td>1</td>\n",
       "      <td>1</td>\n",
       "      <td>7</td>\n",
       "      <td>1</td>\n",
       "      <td>...</td>\n",
       "      <td>No</td>\n",
       "      <td>Steady</td>\n",
       "      <td>No</td>\n",
       "      <td>No</td>\n",
       "      <td>No</td>\n",
       "      <td>No</td>\n",
       "      <td>No</td>\n",
       "      <td>Ch</td>\n",
       "      <td>Yes</td>\n",
       "      <td>NO</td>\n",
       "    </tr>\n",
       "  </tbody>\n",
       "</table>\n",
       "<p>5 rows × 50 columns</p>\n",
       "</div>"
      ],
      "text/plain": [
       "   encounter_id  patient_nbr             race  gender      age weight  \\\n",
       "0       2278392      8222157        Caucasian  Female   [0-10)      ?   \n",
       "1        149190     55629189        Caucasian  Female  [10-20)      ?   \n",
       "2         64410     86047875  AfricanAmerican  Female  [20-30)      ?   \n",
       "3        500364     82442376        Caucasian    Male  [30-40)      ?   \n",
       "4         16680     42519267        Caucasian    Male  [40-50)      ?   \n",
       "\n",
       "   admission_type_id  discharge_disposition_id  admission_source_id  \\\n",
       "0                  6                        25                    1   \n",
       "1                  1                         1                    7   \n",
       "2                  1                         1                    7   \n",
       "3                  1                         1                    7   \n",
       "4                  1                         1                    7   \n",
       "\n",
       "   time_in_hospital  ... citoglipton insulin  glyburide-metformin  \\\n",
       "0                 1  ...          No      No                   No   \n",
       "1                 3  ...          No      Up                   No   \n",
       "2                 2  ...          No      No                   No   \n",
       "3                 2  ...          No      Up                   No   \n",
       "4                 1  ...          No  Steady                   No   \n",
       "\n",
       "   glipizide-metformin  glimepiride-pioglitazone  metformin-rosiglitazone  \\\n",
       "0                   No                        No                       No   \n",
       "1                   No                        No                       No   \n",
       "2                   No                        No                       No   \n",
       "3                   No                        No                       No   \n",
       "4                   No                        No                       No   \n",
       "\n",
       "   metformin-pioglitazone  change diabetesMed readmitted  \n",
       "0                      No      No          No         NO  \n",
       "1                      No      Ch         Yes        >30  \n",
       "2                      No      No         Yes         NO  \n",
       "3                      No      Ch         Yes         NO  \n",
       "4                      No      Ch         Yes         NO  \n",
       "\n",
       "[5 rows x 50 columns]"
      ]
     },
     "execution_count": 8,
     "metadata": {},
     "output_type": "execute_result"
    }
   ],
   "source": [
    "df.head()"
   ]
  },
  {
   "cell_type": "code",
   "execution_count": 9,
   "id": "a0604d54",
   "metadata": {},
   "outputs": [
    {
     "data": {
      "text/plain": [
       "0"
      ]
     },
     "execution_count": 9,
     "metadata": {},
     "output_type": "execute_result"
    }
   ],
   "source": [
    "df.readmitted.isnull().sum()"
   ]
  },
  {
   "cell_type": "markdown",
   "id": "df4e82eb",
   "metadata": {},
   "source": [
    "No null value, dropna parameter is redundant."
   ]
  },
  {
   "cell_type": "code",
   "execution_count": 10,
   "id": "0b391dd9",
   "metadata": {},
   "outputs": [
    {
     "data": {
      "text/plain": [
       "readmitted\n",
       "NO     54864\n",
       ">30    35545\n",
       "<30    11357\n",
       "Name: count, dtype: int64"
      ]
     },
     "execution_count": 10,
     "metadata": {},
     "output_type": "execute_result"
    }
   ],
   "source": [
    "df.readmitted.value_counts()"
   ]
  },
  {
   "cell_type": "markdown",
   "id": "144c61f4",
   "metadata": {},
   "source": [
    "We want to target as **readmitted or not** independent from time period."
   ]
  },
  {
   "cell_type": "code",
   "execution_count": 11,
   "id": "390b95f3",
   "metadata": {},
   "outputs": [
    {
     "data": {
      "text/plain": [
       "readmitted\n",
       "0    54864\n",
       "1    46902\n",
       "Name: count, dtype: int64"
      ]
     },
     "execution_count": 11,
     "metadata": {},
     "output_type": "execute_result"
    }
   ],
   "source": [
    "d = {\n",
    "    'NO': 0, \n",
    "    '>30': 1, \n",
    "    '<30': 1\n",
    "}\n",
    "\n",
    "df['readmitted'] = df['readmitted'].map(d)\n",
    "df.readmitted.value_counts()"
   ]
  },
  {
   "cell_type": "code",
   "execution_count": 12,
   "id": "19a7fe6c",
   "metadata": {},
   "outputs": [],
   "source": [
    "df = df.rename(columns=lambda name: re.sub('\\W', '_', name.strip()).lower())"
   ]
  },
  {
   "cell_type": "code",
   "execution_count": 13,
   "id": "4a1ad988",
   "metadata": {},
   "outputs": [
    {
     "data": {
      "text/html": [
       "<div>\n",
       "<style scoped>\n",
       "    .dataframe tbody tr th:only-of-type {\n",
       "        vertical-align: middle;\n",
       "    }\n",
       "\n",
       "    .dataframe tbody tr th {\n",
       "        vertical-align: top;\n",
       "    }\n",
       "\n",
       "    .dataframe thead th {\n",
       "        text-align: right;\n",
       "    }\n",
       "</style>\n",
       "<table border=\"1\" class=\"dataframe\">\n",
       "  <thead>\n",
       "    <tr style=\"text-align: right;\">\n",
       "      <th></th>\n",
       "      <th>encounter_id</th>\n",
       "      <th>patient_nbr</th>\n",
       "      <th>race</th>\n",
       "      <th>gender</th>\n",
       "      <th>age</th>\n",
       "      <th>weight</th>\n",
       "      <th>admission_type_id</th>\n",
       "      <th>discharge_disposition_id</th>\n",
       "      <th>admission_source_id</th>\n",
       "      <th>time_in_hospital</th>\n",
       "      <th>...</th>\n",
       "      <th>citoglipton</th>\n",
       "      <th>insulin</th>\n",
       "      <th>glyburide_metformin</th>\n",
       "      <th>glipizide_metformin</th>\n",
       "      <th>glimepiride_pioglitazone</th>\n",
       "      <th>metformin_rosiglitazone</th>\n",
       "      <th>metformin_pioglitazone</th>\n",
       "      <th>change</th>\n",
       "      <th>diabetesmed</th>\n",
       "      <th>readmitted</th>\n",
       "    </tr>\n",
       "  </thead>\n",
       "  <tbody>\n",
       "    <tr>\n",
       "      <th>0</th>\n",
       "      <td>2278392</td>\n",
       "      <td>8222157</td>\n",
       "      <td>Caucasian</td>\n",
       "      <td>Female</td>\n",
       "      <td>[0-10)</td>\n",
       "      <td>?</td>\n",
       "      <td>6</td>\n",
       "      <td>25</td>\n",
       "      <td>1</td>\n",
       "      <td>1</td>\n",
       "      <td>...</td>\n",
       "      <td>No</td>\n",
       "      <td>No</td>\n",
       "      <td>No</td>\n",
       "      <td>No</td>\n",
       "      <td>No</td>\n",
       "      <td>No</td>\n",
       "      <td>No</td>\n",
       "      <td>No</td>\n",
       "      <td>No</td>\n",
       "      <td>0</td>\n",
       "    </tr>\n",
       "    <tr>\n",
       "      <th>1</th>\n",
       "      <td>149190</td>\n",
       "      <td>55629189</td>\n",
       "      <td>Caucasian</td>\n",
       "      <td>Female</td>\n",
       "      <td>[10-20)</td>\n",
       "      <td>?</td>\n",
       "      <td>1</td>\n",
       "      <td>1</td>\n",
       "      <td>7</td>\n",
       "      <td>3</td>\n",
       "      <td>...</td>\n",
       "      <td>No</td>\n",
       "      <td>Up</td>\n",
       "      <td>No</td>\n",
       "      <td>No</td>\n",
       "      <td>No</td>\n",
       "      <td>No</td>\n",
       "      <td>No</td>\n",
       "      <td>Ch</td>\n",
       "      <td>Yes</td>\n",
       "      <td>1</td>\n",
       "    </tr>\n",
       "    <tr>\n",
       "      <th>2</th>\n",
       "      <td>64410</td>\n",
       "      <td>86047875</td>\n",
       "      <td>AfricanAmerican</td>\n",
       "      <td>Female</td>\n",
       "      <td>[20-30)</td>\n",
       "      <td>?</td>\n",
       "      <td>1</td>\n",
       "      <td>1</td>\n",
       "      <td>7</td>\n",
       "      <td>2</td>\n",
       "      <td>...</td>\n",
       "      <td>No</td>\n",
       "      <td>No</td>\n",
       "      <td>No</td>\n",
       "      <td>No</td>\n",
       "      <td>No</td>\n",
       "      <td>No</td>\n",
       "      <td>No</td>\n",
       "      <td>No</td>\n",
       "      <td>Yes</td>\n",
       "      <td>0</td>\n",
       "    </tr>\n",
       "    <tr>\n",
       "      <th>3</th>\n",
       "      <td>500364</td>\n",
       "      <td>82442376</td>\n",
       "      <td>Caucasian</td>\n",
       "      <td>Male</td>\n",
       "      <td>[30-40)</td>\n",
       "      <td>?</td>\n",
       "      <td>1</td>\n",
       "      <td>1</td>\n",
       "      <td>7</td>\n",
       "      <td>2</td>\n",
       "      <td>...</td>\n",
       "      <td>No</td>\n",
       "      <td>Up</td>\n",
       "      <td>No</td>\n",
       "      <td>No</td>\n",
       "      <td>No</td>\n",
       "      <td>No</td>\n",
       "      <td>No</td>\n",
       "      <td>Ch</td>\n",
       "      <td>Yes</td>\n",
       "      <td>0</td>\n",
       "    </tr>\n",
       "    <tr>\n",
       "      <th>4</th>\n",
       "      <td>16680</td>\n",
       "      <td>42519267</td>\n",
       "      <td>Caucasian</td>\n",
       "      <td>Male</td>\n",
       "      <td>[40-50)</td>\n",
       "      <td>?</td>\n",
       "      <td>1</td>\n",
       "      <td>1</td>\n",
       "      <td>7</td>\n",
       "      <td>1</td>\n",
       "      <td>...</td>\n",
       "      <td>No</td>\n",
       "      <td>Steady</td>\n",
       "      <td>No</td>\n",
       "      <td>No</td>\n",
       "      <td>No</td>\n",
       "      <td>No</td>\n",
       "      <td>No</td>\n",
       "      <td>Ch</td>\n",
       "      <td>Yes</td>\n",
       "      <td>0</td>\n",
       "    </tr>\n",
       "  </tbody>\n",
       "</table>\n",
       "<p>5 rows × 50 columns</p>\n",
       "</div>"
      ],
      "text/plain": [
       "   encounter_id  patient_nbr             race  gender      age weight  \\\n",
       "0       2278392      8222157        Caucasian  Female   [0-10)      ?   \n",
       "1        149190     55629189        Caucasian  Female  [10-20)      ?   \n",
       "2         64410     86047875  AfricanAmerican  Female  [20-30)      ?   \n",
       "3        500364     82442376        Caucasian    Male  [30-40)      ?   \n",
       "4         16680     42519267        Caucasian    Male  [40-50)      ?   \n",
       "\n",
       "   admission_type_id  discharge_disposition_id  admission_source_id  \\\n",
       "0                  6                        25                    1   \n",
       "1                  1                         1                    7   \n",
       "2                  1                         1                    7   \n",
       "3                  1                         1                    7   \n",
       "4                  1                         1                    7   \n",
       "\n",
       "   time_in_hospital  ... citoglipton insulin  glyburide_metformin  \\\n",
       "0                 1  ...          No      No                   No   \n",
       "1                 3  ...          No      Up                   No   \n",
       "2                 2  ...          No      No                   No   \n",
       "3                 2  ...          No      Up                   No   \n",
       "4                 1  ...          No  Steady                   No   \n",
       "\n",
       "   glipizide_metformin  glimepiride_pioglitazone  metformin_rosiglitazone  \\\n",
       "0                   No                        No                       No   \n",
       "1                   No                        No                       No   \n",
       "2                   No                        No                       No   \n",
       "3                   No                        No                       No   \n",
       "4                   No                        No                       No   \n",
       "\n",
       "   metformin_pioglitazone  change diabetesmed readmitted  \n",
       "0                      No      No          No          0  \n",
       "1                      No      Ch         Yes          1  \n",
       "2                      No      No         Yes          0  \n",
       "3                      No      Ch         Yes          0  \n",
       "4                      No      Ch         Yes          0  \n",
       "\n",
       "[5 rows x 50 columns]"
      ]
     },
     "execution_count": 13,
     "metadata": {},
     "output_type": "execute_result"
    }
   ],
   "source": [
    "df.head()"
   ]
  },
  {
   "cell_type": "markdown",
   "id": "0db35411",
   "metadata": {},
   "source": [
    "# Data Wrangling"
   ]
  },
  {
   "cell_type": "code",
   "execution_count": 14,
   "id": "bf65f80c",
   "metadata": {},
   "outputs": [],
   "source": [
    "# added max_glu_serum and a1cresult because otherwise 'None' entries in them were intrepreted as null,\n",
    "# which causes contradiction with the outputs\n",
    "df[['encounter_id', 'patient_nbr', 'max_glu_serum', 'a1cresult']] = df[['encounter_id', 'patient_nbr', 'max_glu_serum', 'a1cresult']].astype(str)"
   ]
  },
  {
   "cell_type": "code",
   "execution_count": 15,
   "id": "b8d3e9b8",
   "metadata": {},
   "outputs": [],
   "source": [
    "df = df.replace({'?': np.nan})"
   ]
  },
  {
   "cell_type": "code",
   "execution_count": 16,
   "id": "c79a6864",
   "metadata": {},
   "outputs": [
    {
     "data": {
      "text/plain": [
       "weight               96.858479\n",
       "medical_specialty    49.082208\n",
       "payer_code           39.557416\n",
       "race                  2.233555\n",
       "diag_3                1.398306\n",
       "dtype: float64"
      ]
     },
     "execution_count": 16,
     "metadata": {},
     "output_type": "execute_result"
    }
   ],
   "source": [
    "# Checking for the null values\n",
    "nulls_info = (df.isnull().sum()/len(df) * 100).sort_values(ascending=False)\n",
    "nulls_info.head()"
   ]
  },
  {
   "cell_type": "markdown",
   "id": "6e9f19fc",
   "metadata": {},
   "source": [
    "First 3 entry must be examined."
   ]
  },
  {
   "cell_type": "code",
   "execution_count": 17,
   "id": "bd2dbdde",
   "metadata": {},
   "outputs": [
    {
     "name": "stdout",
     "output_type": "stream",
     "text": [
      "               mean       std\n",
      "weight                       \n",
      "None       0.456888  0.498140\n",
      "[25-50)    0.515464  0.502357\n",
      "[150-175)  0.542857  0.505433\n",
      "[175-200)  0.545455  0.522233\n",
      "[50-75)    0.550725  0.497698\n",
      "[125-150)  0.558621  0.498273\n",
      "[100-125)  0.574400  0.494830\n",
      "[75-100)   0.610778  0.487756\n",
      "[0-25)     0.812500  0.394443\n",
      ">200       1.000000  0.000000\n",
      "                                          mean       std\n",
      "medical_specialty                                       \n",
      "Psychiatry-Addictive                  0.000000       NaN\n",
      "Perinatology                          0.000000       NaN\n",
      "Proctology                            0.000000       NaN\n",
      "Neurophysiology                       0.000000       NaN\n",
      "Speech                                0.000000       NaN\n",
      "Pediatrics-Endocrinology              0.150943  0.359125\n",
      "Obstetrics                            0.157895  0.374634\n",
      "DCPTEAM                               0.166667  0.408248\n",
      "Gynecology                            0.172414  0.381039\n",
      "ObstetricsandGynecology               0.211624  0.408765\n",
      "Surgery-Neuro                         0.230769  0.421776\n",
      "Otolaryngology                        0.248000  0.433590\n",
      "Pediatrics-Hematology-Oncology        0.250000  0.500000\n",
      "Endocrinology-Metabolism              0.250000  0.462910\n",
      "Surgery-Pediatric                     0.250000  0.462910\n",
      "Surgery-Cardiovascular/Thoracic       0.265337  0.441852\n",
      "Surgeon                               0.266667  0.447214\n",
      "Surgery-Maxillofacial                 0.272727  0.467099\n",
      "Obsterics&Gynecology-GynecologicOnco  0.280000  0.458258\n",
      "Neurology                             0.285714  0.452871\n",
      "Surgery-Cardiovascular                0.306122  0.463251\n",
      "Orthopedics-Reconstructive            0.312247  0.463598\n",
      "Anesthesiology-Pediatric              0.315789  0.477567\n",
      "SurgicalSpecialty                     0.333333  0.478714\n",
      "Anesthesiology                        0.333333  0.492366\n",
      "Pediatrics-EmergencyMedicine          0.333333  0.577350\n",
      "Orthopedics                           0.341429  0.474358\n",
      "Ophthalmology                         0.342105  0.480783\n",
      "Pediatrics-CriticalCare               0.356322  0.481688\n",
      "Surgery-Colon&Rectal                  0.363636  0.504525\n",
      "Urology                               0.369343  0.482980\n",
      "Pediatrics                            0.374016  0.484823\n",
      "Endocrinology                         0.375000  0.486153\n",
      "Surgery-Thoracic                      0.376147  0.486655\n",
      "PhysicalMedicineandRehabilitation     0.393862  0.489231\n",
      "Pediatrics-Neurology                  0.400000  0.516398\n",
      "Hospitalist                           0.403509  0.494962\n",
      "Surgery-Plastic                       0.414634  0.498779\n",
      "Radiology                             0.415094  0.497454\n",
      "Cardiology                            0.425635  0.494485\n",
      "Psychology                            0.425743  0.496921\n",
      "Radiologist                           0.426316  0.494758\n",
      "Psychiatry                            0.428571  0.495162\n",
      "Psychiatry-Child/Adolescent           0.428571  0.534522\n",
      "InternalMedicine                      0.435190  0.495799\n",
      "Surgery-General                       0.447886  0.497357\n",
      "Rheumatology                          0.470588  0.514496\n",
      "Family/GeneralPractice                0.476613  0.499486\n",
      "Oncology                              0.477011  0.500190\n",
      "None                                  0.480430  0.499622\n",
      "Pulmonology                           0.486797  0.500113\n",
      "Gastroenterology                      0.489362  0.500331\n",
      "OutreachServices                      0.500000  0.522233\n",
      "Hematology/Oncology                   0.502415  0.501206\n",
      "Emergency/Trauma                      0.509187  0.499949\n",
      "Surgery-Vascular                      0.514071  0.500271\n",
      "Osteopath                             0.538462  0.505035\n",
      "InfectiousDiseases                    0.540541  0.505228\n",
      "PhysicianNotFound                     0.545455  0.522233\n",
      "Nephrology                            0.566646  0.495692\n",
      "Podiatry                              0.580000  0.496045\n",
      "Hematology                            0.609756  0.490807\n",
      "Pathology                             0.647059  0.492592\n",
      "Cardiology-Pediatric                  0.714286  0.487950\n",
      "Dentistry                             0.750000  0.500000\n",
      "Pediatrics-Pulmonology                0.760000  0.435890\n",
      "AllergyandImmunology                  0.857143  0.377964\n",
      "Dermatology                           1.000000       NaN\n",
      "Pediatrics-InfectiousDiseases         1.000000       NaN\n",
      "Pediatrics-AllergyandImmunology       1.000000  0.000000\n",
      "Surgery-PlasticwithinHeadandNeck      1.000000       NaN\n",
      "Resident                              1.000000  0.000000\n",
      "SportsMedicine                        1.000000       NaN\n",
      "                mean       std\n",
      "payer_code                    \n",
      "FR          0.000000       NaN\n",
      "WC          0.214815  0.412223\n",
      "CH          0.315068  0.466142\n",
      "PO          0.317568  0.465924\n",
      "BC          0.370999  0.483124\n",
      "UN          0.377042  0.484745\n",
      "CP          0.392815  0.488473\n",
      "SI          0.436364  0.500505\n",
      "CM          0.443469  0.496922\n",
      "OG          0.454017  0.498122\n",
      "None        0.458441  0.498276\n",
      "HM          0.472426  0.499279\n",
      "OT          0.473684  0.501956\n",
      "MD          0.474236  0.499406\n",
      "SP          0.475135  0.499431\n",
      "MC          0.486821  0.499834\n",
      "DM          0.517304  0.500156\n",
      "MP          0.607595  0.491406\n"
     ]
    }
   ],
   "source": [
    "vars_to_examine = ['weight', 'medical_specialty', 'payer_code']\n",
    "df_tmp = copy.deepcopy(df[vars_to_examine + ['readmitted']])\n",
    "df_tmp = df_tmp.applymap(lambda x: 'None' if x is np.nan else x)\n",
    "\n",
    "for col in vars_to_examine:\n",
    "    tmp = df_tmp.groupby(col).agg({'readmitted': ['mean', 'std']})\n",
    "    tmp.columns = tmp.columns.droplevel(0)\n",
    "    print(tmp.sort_values('mean'))"
   ]
  },
  {
   "cell_type": "markdown",
   "id": "6bd94f1f",
   "metadata": {},
   "source": [
    "Here, we see that the 'None' group we have created has mixed mean values for medical_specialty and payer_code features. But for weight feature, mean value for 'None' group covers a different part of the data, which means those nulls are informative. So, we will keep this column and flag the null values with '?'."
   ]
  },
  {
   "cell_type": "code",
   "execution_count": 18,
   "id": "5f4a68f9",
   "metadata": {},
   "outputs": [],
   "source": [
    "df = df.drop(columns=['medical_specialty', 'payer_code'])\n",
    "df = df.fillna({'weight': '?'})"
   ]
  },
  {
   "cell_type": "code",
   "execution_count": 19,
   "id": "bd5d467b",
   "metadata": {},
   "outputs": [],
   "source": [
    "dummy_variables = ['race', 'gender', 'weight', 'admission_source_id', 'admission_type_id', 'discharge_disposition_id']\n",
    "binary_columns = ['change', 'diabetesmed']"
   ]
  },
  {
   "cell_type": "code",
   "execution_count": 20,
   "id": "9aed5204",
   "metadata": {},
   "outputs": [
    {
     "name": "stdout",
     "output_type": "stream",
     "text": [
      "change: 0\n",
      "diabetesmed: 0\n",
      "race: 2273\n",
      "gender: 0\n",
      "weight: 0\n",
      "admission_source_id: 0\n",
      "admission_type_id: 0\n",
      "discharge_disposition_id: 0\n"
     ]
    }
   ],
   "source": [
    "for col in binary_columns + dummy_variables:\n",
    "    print(f\"{col}: {sum(pd.isnull(df[col]))}\")"
   ]
  },
  {
   "cell_type": "markdown",
   "id": "acabab2b",
   "metadata": {},
   "source": [
    "Converting ordinal categorics to numeric"
   ]
  },
  {
   "cell_type": "code",
   "execution_count": 21,
   "id": "c90f24e4",
   "metadata": {},
   "outputs": [
    {
     "data": {
      "text/plain": [
       "age\n",
       "[70-80)     26068\n",
       "[60-70)     22483\n",
       "[50-60)     17256\n",
       "[80-90)     17197\n",
       "[40-50)      9685\n",
       "[30-40)      3775\n",
       "[90-100)     2793\n",
       "[20-30)      1657\n",
       "[10-20)       691\n",
       "[0-10)        161\n",
       "Name: count, dtype: int64"
      ]
     },
     "execution_count": 21,
     "metadata": {},
     "output_type": "execute_result"
    }
   ],
   "source": [
    "df.age.value_counts()"
   ]
  },
  {
   "cell_type": "code",
   "execution_count": 22,
   "id": "c6690ee0",
   "metadata": {},
   "outputs": [
    {
     "data": {
      "text/plain": [
       "0          5\n",
       "1         15\n",
       "2         25\n",
       "3         35\n",
       "4         45\n",
       "          ..\n",
       "101761    75\n",
       "101762    85\n",
       "101763    75\n",
       "101764    85\n",
       "101765    75\n",
       "Name: age, Length: 101766, dtype: int64"
      ]
     },
     "execution_count": 22,
     "metadata": {},
     "output_type": "execute_result"
    }
   ],
   "source": [
    "d = {\n",
    "    '[0-10)': 5,\n",
    "    '[10-20)': 15,\n",
    "    '[20-30)': 25, \n",
    "    '[30-40)': 35,\n",
    "    '[40-50)': 45,\n",
    "    '[50-60)': 55, \n",
    "    '[60-70)': 65,\n",
    "    '[70-80)': 75,\n",
    "    '[80-90)': 85, \n",
    "    '[90-100)': 95\n",
    "}\n",
    "\n",
    "df['age'] = df['age'].map(d)\n",
    "df['age']"
   ]
  },
  {
   "cell_type": "code",
   "execution_count": 23,
   "id": "f6a5737c",
   "metadata": {},
   "outputs": [
    {
     "data": {
      "text/plain": [
       "max_glu_serum\n",
       "None    96420\n",
       "Norm     2597\n",
       ">200     1485\n",
       ">300     1264\n",
       "Name: count, dtype: int64"
      ]
     },
     "execution_count": 23,
     "metadata": {},
     "output_type": "execute_result"
    }
   ],
   "source": [
    "df.max_glu_serum.value_counts()"
   ]
  },
  {
   "cell_type": "code",
   "execution_count": 24,
   "id": "94bf7339",
   "metadata": {},
   "outputs": [
    {
     "data": {
      "text/plain": [
       "0         0\n",
       "1         0\n",
       "2         0\n",
       "3         0\n",
       "4         0\n",
       "         ..\n",
       "101761    0\n",
       "101762    0\n",
       "101763    0\n",
       "101764    0\n",
       "101765    0\n",
       "Name: max_glu_serum, Length: 101766, dtype: int64"
      ]
     },
     "execution_count": 24,
     "metadata": {},
     "output_type": "execute_result"
    }
   ],
   "source": [
    "d = {\n",
    "    'None': 0, \n",
    "    'Norm': 1, \n",
    "    '>200': 2, \n",
    "    '>300': 3\n",
    "}\n",
    "\n",
    "df['max_glu_serum'] = df['max_glu_serum'].map(d)\n",
    "df['max_glu_serum']"
   ]
  },
  {
   "cell_type": "code",
   "execution_count": 25,
   "id": "f27a8777",
   "metadata": {},
   "outputs": [
    {
     "data": {
      "text/plain": [
       "a1cresult\n",
       "None    84748\n",
       ">8       8216\n",
       "Norm     4990\n",
       ">7       3812\n",
       "Name: count, dtype: int64"
      ]
     },
     "execution_count": 25,
     "metadata": {},
     "output_type": "execute_result"
    }
   ],
   "source": [
    "df.a1cresult.value_counts()"
   ]
  },
  {
   "cell_type": "code",
   "execution_count": 26,
   "id": "1d807248",
   "metadata": {},
   "outputs": [
    {
     "data": {
      "text/plain": [
       "0         0\n",
       "1         0\n",
       "2         0\n",
       "3         0\n",
       "4         0\n",
       "         ..\n",
       "101761    3\n",
       "101762    0\n",
       "101763    0\n",
       "101764    0\n",
       "101765    0\n",
       "Name: a1cresult, Length: 101766, dtype: int64"
      ]
     },
     "execution_count": 26,
     "metadata": {},
     "output_type": "execute_result"
    }
   ],
   "source": [
    "d = {\n",
    "    'None': 0, \n",
    "    'Norm': 1, \n",
    "    '>7': 2, \n",
    "    '>8': 3\n",
    "}\n",
    "\n",
    "df['a1cresult'] = df['a1cresult'].map(d)\n",
    "df['a1cresult']"
   ]
  },
  {
   "cell_type": "code",
   "execution_count": 27,
   "id": "85269b2e",
   "metadata": {},
   "outputs": [
    {
     "data": {
      "text/plain": [
       "race\n",
       "Caucasian          76099\n",
       "AfricanAmerican    19210\n",
       "NaN                 2273\n",
       "Hispanic            2037\n",
       "Other               1506\n",
       "Asian                641\n",
       "Name: count, dtype: int64"
      ]
     },
     "execution_count": 27,
     "metadata": {},
     "output_type": "execute_result"
    }
   ],
   "source": [
    "df.race.value_counts(dropna=False)"
   ]
  },
  {
   "cell_type": "code",
   "execution_count": 28,
   "id": "a7507677",
   "metadata": {},
   "outputs": [
    {
     "data": {
      "text/html": [
       "<div>\n",
       "<style scoped>\n",
       "    .dataframe tbody tr th:only-of-type {\n",
       "        vertical-align: middle;\n",
       "    }\n",
       "\n",
       "    .dataframe tbody tr th {\n",
       "        vertical-align: top;\n",
       "    }\n",
       "\n",
       "    .dataframe thead th {\n",
       "        text-align: right;\n",
       "    }\n",
       "</style>\n",
       "<table border=\"1\" class=\"dataframe\">\n",
       "  <thead>\n",
       "    <tr style=\"text-align: right;\">\n",
       "      <th></th>\n",
       "      <th>race</th>\n",
       "    </tr>\n",
       "    <tr>\n",
       "      <th>patient_nbr</th>\n",
       "      <th></th>\n",
       "    </tr>\n",
       "  </thead>\n",
       "  <tbody>\n",
       "    <tr>\n",
       "      <th>107849052</th>\n",
       "      <td>3</td>\n",
       "    </tr>\n",
       "    <tr>\n",
       "      <th>106895331</th>\n",
       "      <td>3</td>\n",
       "    </tr>\n",
       "    <tr>\n",
       "      <th>98962209</th>\n",
       "      <td>2</td>\n",
       "    </tr>\n",
       "    <tr>\n",
       "      <th>561609</th>\n",
       "      <td>2</td>\n",
       "    </tr>\n",
       "    <tr>\n",
       "      <th>83158605</th>\n",
       "      <td>2</td>\n",
       "    </tr>\n",
       "  </tbody>\n",
       "</table>\n",
       "</div>"
      ],
      "text/plain": [
       "             race\n",
       "patient_nbr      \n",
       "107849052       3\n",
       "106895331       3\n",
       "98962209        2\n",
       "561609          2\n",
       "83158605        2"
      ]
     },
     "execution_count": 28,
     "metadata": {},
     "output_type": "execute_result"
    }
   ],
   "source": [
    "known_patients = df[~pd.isnull(df.race)][['patient_nbr', 'race']].drop_duplicates()\n",
    "known_patients.groupby('patient_nbr').count().sort_values('race', ascending=False).head()"
   ]
  },
  {
   "cell_type": "markdown",
   "id": "34162966",
   "metadata": {},
   "source": [
    "For example, examine the '561609':"
   ]
  },
  {
   "cell_type": "code",
   "execution_count": 29,
   "id": "33ca6514",
   "metadata": {},
   "outputs": [
    {
     "data": {
      "text/plain": [
       "12669    Caucasian\n",
       "20723     Hispanic\n",
       "Name: race, dtype: object"
      ]
     },
     "execution_count": 29,
     "metadata": {},
     "output_type": "execute_result"
    }
   ],
   "source": [
    "df[df.patient_nbr == '561609'].race"
   ]
  },
  {
   "cell_type": "markdown",
   "id": "37ba55fe",
   "metadata": {},
   "source": [
    "Let's create an imputer for race column"
   ]
  },
  {
   "cell_type": "code",
   "execution_count": 30,
   "id": "182b02ba",
   "metadata": {},
   "outputs": [
    {
     "name": "stdout",
     "output_type": "stream",
     "text": [
      "The number of nulls on the race column before this step is: 2273\n",
      "The number of nulls on the race column after this step is: 2130\n"
     ]
    }
   ],
   "source": [
    "print(f\"The number of nulls on the race column before this step is: {sum(pd.isnull(df.race))}\")\n",
    "\n",
    "known_patients_n_races = known_patients.groupby('patient_nbr').count()\n",
    "\n",
    "invalid_patient_nbr = list(known_patients_n_races[known_patients_n_races.race != 1].index)\n",
    "known_patients = known_patients[~known_patients.patient_nbr.isin(invalid_patient_nbr)]\n",
    "\n",
    "assert known_patients.shape[0] == known_patients.drop_duplicates(subset='patient_nbr').shape[0], 'Duplicates in patient_nbr'\n",
    "\n",
    "df = pd.merge(df, known_patients, how='left', on='patient_nbr')\n",
    "\n",
    "df['race'] = df['race_x'].combine_first(df['race_y'])\n",
    "df = df.drop(columns=['race_x', 'race_y'])\n",
    "\n",
    "print(f\"The number of nulls on the race column after this step is: {sum(pd.isnull(df.race))}\")"
   ]
  },
  {
   "cell_type": "markdown",
   "id": "18307ced",
   "metadata": {},
   "source": [
    "For imputation, we should pick columns that may create a fitting pattern to explain the race"
   ]
  },
  {
   "cell_type": "code",
   "execution_count": 31,
   "id": "7d06318b",
   "metadata": {},
   "outputs": [
    {
     "data": {
      "text/plain": [
       "gender    object\n",
       "age        int64\n",
       "weight    object\n",
       "dtype: object"
      ]
     },
     "execution_count": 31,
     "metadata": {},
     "output_type": "execute_result"
    }
   ],
   "source": [
    "cols_for_imputation = ['gender', 'age', 'weight']\n",
    "cols_for_imputation = [col for col in df.columns for dummy_root in cols_for_imputation if dummy_root in col]\n",
    "df[cols_for_imputation].dtypes"
   ]
  },
  {
   "cell_type": "code",
   "execution_count": 32,
   "id": "32ee521c",
   "metadata": {},
   "outputs": [
    {
     "data": {
      "text/plain": [
       "weight\n",
       "?            98569\n",
       "[75-100)      1336\n",
       "[50-75)        897\n",
       "[100-125)      625\n",
       "[125-150)      145\n",
       "[25-50)         97\n",
       "[0-25)          48\n",
       "[150-175)       35\n",
       "[175-200)       11\n",
       ">200             3\n",
       "Name: count, dtype: int64"
      ]
     },
     "execution_count": 32,
     "metadata": {},
     "output_type": "execute_result"
    }
   ],
   "source": [
    "df['weight'].value_counts()"
   ]
  },
  {
   "cell_type": "code",
   "execution_count": 33,
   "id": "43dd96cb",
   "metadata": {},
   "outputs": [
    {
     "data": {
      "text/html": [
       "<div>\n",
       "<style scoped>\n",
       "    .dataframe tbody tr th:only-of-type {\n",
       "        vertical-align: middle;\n",
       "    }\n",
       "\n",
       "    .dataframe tbody tr th {\n",
       "        vertical-align: top;\n",
       "    }\n",
       "\n",
       "    .dataframe thead th {\n",
       "        text-align: right;\n",
       "    }\n",
       "</style>\n",
       "<table border=\"1\" class=\"dataframe\">\n",
       "  <thead>\n",
       "    <tr style=\"text-align: right;\">\n",
       "      <th></th>\n",
       "      <th>gender</th>\n",
       "      <th>age</th>\n",
       "      <th>weight</th>\n",
       "    </tr>\n",
       "  </thead>\n",
       "  <tbody>\n",
       "    <tr>\n",
       "      <th>0</th>\n",
       "      <td>Female</td>\n",
       "      <td>5</td>\n",
       "      <td>?</td>\n",
       "    </tr>\n",
       "    <tr>\n",
       "      <th>1</th>\n",
       "      <td>Female</td>\n",
       "      <td>15</td>\n",
       "      <td>?</td>\n",
       "    </tr>\n",
       "    <tr>\n",
       "      <th>2</th>\n",
       "      <td>Female</td>\n",
       "      <td>25</td>\n",
       "      <td>?</td>\n",
       "    </tr>\n",
       "    <tr>\n",
       "      <th>3</th>\n",
       "      <td>Male</td>\n",
       "      <td>35</td>\n",
       "      <td>?</td>\n",
       "    </tr>\n",
       "    <tr>\n",
       "      <th>4</th>\n",
       "      <td>Male</td>\n",
       "      <td>45</td>\n",
       "      <td>?</td>\n",
       "    </tr>\n",
       "  </tbody>\n",
       "</table>\n",
       "</div>"
      ],
      "text/plain": [
       "   gender  age weight\n",
       "0  Female    5      ?\n",
       "1  Female   15      ?\n",
       "2  Female   25      ?\n",
       "3    Male   35      ?\n",
       "4    Male   45      ?"
      ]
     },
     "execution_count": 33,
     "metadata": {},
     "output_type": "execute_result"
    }
   ],
   "source": [
    "df[cols_for_imputation].head()"
   ]
  },
  {
   "cell_type": "markdown",
   "id": "f3ded66b",
   "metadata": {},
   "source": [
    "What done under here is basically:\n",
    "- Creating *x_train_race* and *y_train_race* where race is not null. These will be used for imputation.\n",
    "- Creating *x_test_race* where 'race' is null. This data will be used to predict the missing 'race' values once the imputation model is trained.\n",
    "- Since 'Caucasian' is overrepresented, undersampling it.\n",
    "- Combining them to achieve y_train_race.\n",
    "- Updating x_train_race to only include the entries corresponding to y_train_race."
   ]
  },
  {
   "cell_type": "code",
   "execution_count": 34,
   "id": "8807831f",
   "metadata": {},
   "outputs": [
    {
     "data": {
      "text/plain": [
       "race\n",
       "Caucasian          20000\n",
       "AfricanAmerican    19223\n",
       "Hispanic            2047\n",
       "Other               1513\n",
       "Asian                641\n",
       "Name: count, dtype: int64"
      ]
     },
     "execution_count": 34,
     "metadata": {},
     "output_type": "execute_result"
    }
   ],
   "source": [
    "x_train_race = df[~pd.isnull(df.race)][cols_for_imputation]\n",
    "y_train_race = df[~pd.isnull(df.race)]['race']\n",
    "x_test_race = df[pd.isnull(df.race)][cols_for_imputation]\n",
    "\n",
    "# We shall apply undersampling to balance the categorical levels\n",
    "y_train_race_1 = y_train_race[y_train_race != 'Caucasian']\n",
    "y_train_race_2 = y_train_race[y_train_race == 'Caucasian']\n",
    "y_train_race_2 = y_train_race_2.sample(n=20000)\n",
    "\n",
    "y_train_race = pd.concat([y_train_race_1, y_train_race_2])\n",
    "x_train_race = x_train_race.loc[y_train_race.index]\n",
    "y_train_race.value_counts()"
   ]
  },
  {
   "cell_type": "code",
   "execution_count": 35,
   "id": "c8aa5e01",
   "metadata": {},
   "outputs": [
    {
     "name": "stdout",
     "output_type": "stream",
     "text": [
      "Learning rate set to 0.095906\n",
      "0:\tlearn: 1.5063152\ttotal: 201ms\tremaining: 3m 21s\n",
      "250:\tlearn: 1.0008005\ttotal: 14.4s\tremaining: 43s\n",
      "500:\tlearn: 0.9990593\ttotal: 29.3s\tremaining: 29.2s\n",
      "750:\tlearn: 0.9976491\ttotal: 43.4s\tremaining: 14.4s\n",
      "999:\tlearn: 0.9965248\ttotal: 57.3s\tremaining: 0us\n"
     ]
    },
    {
     "data": {
      "text/plain": [
       "array([['Caucasian'],\n",
       "       ['AfricanAmerican'],\n",
       "       ['Caucasian'],\n",
       "       ...,\n",
       "       ['Caucasian'],\n",
       "       ['AfricanAmerican'],\n",
       "       ['Caucasian']], dtype=object)"
      ]
     },
     "execution_count": 35,
     "metadata": {},
     "output_type": "execute_result"
    }
   ],
   "source": [
    "race_imputer = CatBoostClassifier(max_depth=3, \n",
    "                                  random_seed=10)\n",
    "\n",
    "race_imputer.fit(x_train_race, \n",
    "                 y_train_race,\n",
    "                 cat_features=['gender','weight'],\n",
    "                 verbose=250\n",
    "             )\n",
    "\n",
    "y_test_race = race_imputer.predict(x_test_race)\n",
    "y_test_race"
   ]
  },
  {
   "cell_type": "code",
   "execution_count": 36,
   "id": "ac01041c",
   "metadata": {},
   "outputs": [
    {
     "name": "stdout",
     "output_type": "stream",
     "text": [
      "CPU times: total: 0 ns\n",
      "Wall time: 5.48 ms\n"
     ]
    }
   ],
   "source": [
    "%%time\n",
    "\n",
    "os.mkdir('./artifacts')\n",
    "race_imputer.save_model('./artifacts/imputer_model.cbm')"
   ]
  },
  {
   "cell_type": "code",
   "execution_count": 37,
   "id": "1267fe21",
   "metadata": {},
   "outputs": [
    {
     "data": {
      "text/plain": [
       "race\n",
       "Caucasian          77514\n",
       "AfricanAmerican    20049\n",
       "Hispanic            2047\n",
       "Other               1515\n",
       "Asian                641\n",
       "Name: count, dtype: int64"
      ]
     },
     "execution_count": 37,
     "metadata": {},
     "output_type": "execute_result"
    }
   ],
   "source": [
    "df.loc[df.race.isna(), 'race'] = race_imputer.predict(df.loc[df.race.isna(), race_imputer.feature_names_])\n",
    "df.race.value_counts(dropna=False)"
   ]
  },
  {
   "cell_type": "markdown",
   "id": "e845d97e",
   "metadata": {},
   "source": [
    "There are bad values for numeric columns diag_1, diag_2, diag_3:"
   ]
  },
  {
   "cell_type": "code",
   "execution_count": 38,
   "id": "0efafb99",
   "metadata": {},
   "outputs": [
    {
     "data": {
      "text/html": [
       "<div>\n",
       "<style scoped>\n",
       "    .dataframe tbody tr th:only-of-type {\n",
       "        vertical-align: middle;\n",
       "    }\n",
       "\n",
       "    .dataframe tbody tr th {\n",
       "        vertical-align: top;\n",
       "    }\n",
       "\n",
       "    .dataframe thead th {\n",
       "        text-align: right;\n",
       "    }\n",
       "</style>\n",
       "<table border=\"1\" class=\"dataframe\">\n",
       "  <thead>\n",
       "    <tr style=\"text-align: right;\">\n",
       "      <th></th>\n",
       "      <th>diag_1</th>\n",
       "      <th>diag_2</th>\n",
       "      <th>diag_3</th>\n",
       "    </tr>\n",
       "  </thead>\n",
       "  <tbody>\n",
       "    <tr>\n",
       "      <th>0</th>\n",
       "      <td>250.83</td>\n",
       "      <td>NaN</td>\n",
       "      <td>NaN</td>\n",
       "    </tr>\n",
       "    <tr>\n",
       "      <th>1</th>\n",
       "      <td>276</td>\n",
       "      <td>250.01</td>\n",
       "      <td>255</td>\n",
       "    </tr>\n",
       "    <tr>\n",
       "      <th>2</th>\n",
       "      <td>648</td>\n",
       "      <td>250</td>\n",
       "      <td>V27</td>\n",
       "    </tr>\n",
       "    <tr>\n",
       "      <th>3</th>\n",
       "      <td>8</td>\n",
       "      <td>250.43</td>\n",
       "      <td>403</td>\n",
       "    </tr>\n",
       "    <tr>\n",
       "      <th>4</th>\n",
       "      <td>197</td>\n",
       "      <td>157</td>\n",
       "      <td>250</td>\n",
       "    </tr>\n",
       "  </tbody>\n",
       "</table>\n",
       "</div>"
      ],
      "text/plain": [
       "   diag_1  diag_2 diag_3\n",
       "0  250.83     NaN    NaN\n",
       "1     276  250.01    255\n",
       "2     648     250    V27\n",
       "3       8  250.43    403\n",
       "4     197     157    250"
      ]
     },
     "execution_count": 38,
     "metadata": {},
     "output_type": "execute_result"
    }
   ],
   "source": [
    "df[['diag_1', 'diag_2', 'diag_3']].head()"
   ]
  },
  {
   "cell_type": "code",
   "execution_count": 39,
   "id": "a2adce14",
   "metadata": {},
   "outputs": [],
   "source": [
    "df[['diag_1', 'diag_2', 'diag_3']] = df[['diag_1', 'diag_2', 'diag_3']].applymap(lambda x: float(re.sub('\\D', '', x)) \n",
    "                                                                                 if isinstance(x, str) else x)"
   ]
  },
  {
   "cell_type": "code",
   "execution_count": 40,
   "id": "6d15fa71",
   "metadata": {},
   "outputs": [
    {
     "data": {
      "text/plain": [
       "diag_1      21\n",
       "diag_2     358\n",
       "diag_3    1423\n",
       "dtype: int64"
      ]
     },
     "execution_count": 40,
     "metadata": {},
     "output_type": "execute_result"
    }
   ],
   "source": [
    "df[['diag_1', 'diag_2', 'diag_3']].isnull().sum()"
   ]
  },
  {
   "cell_type": "code",
   "execution_count": 41,
   "id": "fc1b53cf",
   "metadata": {},
   "outputs": [
    {
     "data": {
      "text/html": [
       "<div>\n",
       "<style scoped>\n",
       "    .dataframe tbody tr th:only-of-type {\n",
       "        vertical-align: middle;\n",
       "    }\n",
       "\n",
       "    .dataframe tbody tr th {\n",
       "        vertical-align: top;\n",
       "    }\n",
       "\n",
       "    .dataframe thead th {\n",
       "        text-align: right;\n",
       "    }\n",
       "</style>\n",
       "<table border=\"1\" class=\"dataframe\">\n",
       "  <thead>\n",
       "    <tr style=\"text-align: right;\">\n",
       "      <th></th>\n",
       "      <th>diag_1</th>\n",
       "      <th>diag_2</th>\n",
       "      <th>diag_3</th>\n",
       "    </tr>\n",
       "  </thead>\n",
       "  <tbody>\n",
       "    <tr>\n",
       "      <th>0</th>\n",
       "      <td>25083.0</td>\n",
       "      <td>NaN</td>\n",
       "      <td>NaN</td>\n",
       "    </tr>\n",
       "    <tr>\n",
       "      <th>1</th>\n",
       "      <td>276.0</td>\n",
       "      <td>25001.0</td>\n",
       "      <td>255.0</td>\n",
       "    </tr>\n",
       "    <tr>\n",
       "      <th>2</th>\n",
       "      <td>648.0</td>\n",
       "      <td>250.0</td>\n",
       "      <td>27.0</td>\n",
       "    </tr>\n",
       "    <tr>\n",
       "      <th>3</th>\n",
       "      <td>8.0</td>\n",
       "      <td>25043.0</td>\n",
       "      <td>403.0</td>\n",
       "    </tr>\n",
       "    <tr>\n",
       "      <th>4</th>\n",
       "      <td>197.0</td>\n",
       "      <td>157.0</td>\n",
       "      <td>250.0</td>\n",
       "    </tr>\n",
       "  </tbody>\n",
       "</table>\n",
       "</div>"
      ],
      "text/plain": [
       "    diag_1   diag_2  diag_3\n",
       "0  25083.0      NaN     NaN\n",
       "1    276.0  25001.0   255.0\n",
       "2    648.0    250.0    27.0\n",
       "3      8.0  25043.0   403.0\n",
       "4    197.0    157.0   250.0"
      ]
     },
     "execution_count": 41,
     "metadata": {},
     "output_type": "execute_result"
    }
   ],
   "source": [
    "df[['diag_1', 'diag_2', 'diag_3']].head()"
   ]
  },
  {
   "cell_type": "markdown",
   "id": "7604da27",
   "metadata": {},
   "source": [
    "Making ID columns string."
   ]
  },
  {
   "cell_type": "code",
   "execution_count": 42,
   "id": "306b2056",
   "metadata": {},
   "outputs": [],
   "source": [
    "df[['admission_type_id',\n",
    "    'discharge_disposition_id',\n",
    "    'admission_source_id']]= df[['admission_type_id','discharge_disposition_id','admission_source_id']].astype('str')"
   ]
  },
  {
   "cell_type": "markdown",
   "id": "d045c7f6",
   "metadata": {},
   "source": [
    "# Modeling"
   ]
  },
  {
   "cell_type": "code",
   "execution_count": 43,
   "id": "959516d0",
   "metadata": {},
   "outputs": [],
   "source": [
    "target = 'readmitted'\n",
    "not_input = ['readmitted', 'patient_nbr', 'encounter_id']\n",
    "input_features = [column for column in df.columns if column not in not_input]\n",
    "cat_features = list(df[input_features].select_dtypes(include='object').columns)"
   ]
  },
  {
   "cell_type": "code",
   "execution_count": 44,
   "id": "ff843e33",
   "metadata": {},
   "outputs": [
    {
     "data": {
      "text/plain": [
       "readmitted\n",
       "0    0.539119\n",
       "1    0.460881\n",
       "Name: count, dtype: float64"
      ]
     },
     "execution_count": 44,
     "metadata": {},
     "output_type": "execute_result"
    }
   ],
   "source": [
    "df.readmitted.value_counts(dropna=False) / df.shape[0]"
   ]
  },
  {
   "cell_type": "code",
   "execution_count": 45,
   "id": "edda57bf",
   "metadata": {},
   "outputs": [],
   "source": [
    "y = df.readmitted\n",
    "X = df[input_features]\n",
    "\n",
    "X_train, X_test, y_train, y_test = train_test_split(X, y, \n",
    "                                                    train_size = 0.8, \n",
    "                                                    stratify = y,\n",
    "                                                    random_state = 10)"
   ]
  },
  {
   "cell_type": "code",
   "execution_count": 46,
   "id": "d6e4ae7a",
   "metadata": {},
   "outputs": [],
   "source": [
    "pool_train = Pool(data = X_train,\n",
    "                 label = y_train,\n",
    "                 cat_features = cat_features)\n",
    "\n",
    "pool_test =  Pool(data = X_test,\n",
    "                 label = y_test,\n",
    "                 cat_features = cat_features)"
   ]
  },
  {
   "cell_type": "code",
   "execution_count": 47,
   "id": "3c436487",
   "metadata": {},
   "outputs": [],
   "source": [
    "model = CatBoostClassifier(max_depth=5,\n",
    "                         random_state=1,\n",
    "                         eval_metric='Accuracy'\n",
    "                         )"
   ]
  },
  {
   "cell_type": "code",
   "execution_count": 48,
   "id": "a3f3f04d",
   "metadata": {},
   "outputs": [
    {
     "name": "stdout",
     "output_type": "stream",
     "text": [
      "Learning rate set to 0.09394\n",
      "0:\tlearn: 0.6217142\ttest: 0.6303921\tbest: 0.6303921 (0)\ttotal: 146ms\tremaining: 2m 25s\n",
      "100:\tlearn: 0.6453840\ttest: 0.6480299\tbest: 0.6486686 (87)\ttotal: 16.2s\tremaining: 2m 24s\n",
      "200:\tlearn: 0.6544367\ttest: 0.6505847\tbest: 0.6509777 (186)\ttotal: 31.4s\tremaining: 2m 4s\n",
      "300:\tlearn: 0.6601852\ttest: 0.6517147\tbest: 0.6522060 (282)\ttotal: 46.5s\tremaining: 1m 47s\n",
      "400:\tlearn: 0.6647177\ttest: 0.6514690\tbest: 0.6527955 (322)\ttotal: 1m 1s\tremaining: 1m 31s\n",
      "500:\tlearn: 0.6677394\ttest: 0.6523042\tbest: 0.6527955 (322)\ttotal: 1m 16s\tremaining: 1m 16s\n",
      "600:\tlearn: 0.6697661\ttest: 0.6533360\tbest: 0.6533851 (567)\ttotal: 1m 32s\tremaining: 1m 1s\n",
      "700:\tlearn: 0.6731563\ttest: 0.6540238\tbest: 0.6548590 (653)\ttotal: 1m 47s\tremaining: 45.8s\n",
      "800:\tlearn: 0.6760060\ttest: 0.6543186\tbest: 0.6548590 (653)\ttotal: 2m 3s\tremaining: 30.6s\n",
      "900:\tlearn: 0.6784995\ttest: 0.6544168\tbest: 0.6552520 (876)\ttotal: 2m 18s\tremaining: 15.3s\n",
      "999:\tlearn: 0.6808210\ttest: 0.6535325\tbest: 0.6552520 (876)\ttotal: 2m 34s\tremaining: 0us\n",
      "\n",
      "bestTest = 0.6552520389\n",
      "bestIteration = 876\n",
      "\n",
      "Shrink model to first 877 iterations.\n"
     ]
    },
    {
     "data": {
      "text/plain": [
       "<catboost.core.CatBoostClassifier at 0x219bd98ad50>"
      ]
     },
     "execution_count": 48,
     "metadata": {},
     "output_type": "execute_result"
    }
   ],
   "source": [
    "model.fit(pool_train,\n",
    "          use_best_model=True,\n",
    "          verbose=100,\n",
    "          eval_set=pool_test)"
   ]
  },
  {
   "cell_type": "markdown",
   "id": "63179257",
   "metadata": {},
   "source": [
    "# Save Model and the Data"
   ]
  },
  {
   "cell_type": "code",
   "execution_count": 49,
   "id": "8a9d021c",
   "metadata": {},
   "outputs": [
    {
     "name": "stdout",
     "output_type": "stream",
     "text": [
      "CPU times: total: 234 ms\n",
      "Wall time: 399 ms\n"
     ]
    }
   ],
   "source": [
    "%%time\n",
    "\n",
    "df.drop_duplicates(subset='patient_nbr', keep='last').to_parquet('./artifacts/demo_data.pq')\n",
    "model.save_model('./artifacts/scoring_model.cbm')"
   ]
  },
  {
   "cell_type": "code",
   "execution_count": 50,
   "id": "5c721e8a",
   "metadata": {},
   "outputs": [],
   "source": [
    "model.save_model('./scoring_model.pmml')"
   ]
  },
  {
   "cell_type": "code",
   "execution_count": 51,
   "id": "4172cc38",
   "metadata": {},
   "outputs": [
    {
     "name": "stderr",
     "output_type": "stream",
     "text": [
      "c:\\Users\\Bora\\AppData\\Local\\Programs\\Python\\Python311\\Lib\\site-packages\\tqdm\\auto.py:21: TqdmWarning: IProgress not found. Please update jupyter and ipywidgets. See https://ipywidgets.readthedocs.io/en/stable/user_install.html\n",
      "  from .autonotebook import tqdm as notebook_tqdm\n"
     ]
    }
   ],
   "source": [
    "import shap"
   ]
  },
  {
   "cell_type": "code",
   "execution_count": 52,
   "id": "ba4635ed",
   "metadata": {},
   "outputs": [
    {
     "data": {
      "image/png": "[encoded data removed]",
      "text/plain": [
       "<Figure size 800x600 with 1 Axes>"
      ]
     },
     "metadata": {},
     "output_type": "display_data"
    }
   ],
   "source": [
    "exp = shap.TreeExplainer(model)\n",
    "vals = exp.shap_values(X_test[model.feature_names_])\n",
    "\n",
    "shap.summary_plot(vals,\n",
    "                  X_test[model.feature_names_],\n",
    "                  max_display= 15,\n",
    "                  plot_type='bar',\n",
    "                  plot_size=.3)"
   ]
  },
  {
   "cell_type": "code",
   "execution_count": 53,
   "id": "f2718fef",
   "metadata": {},
   "outputs": [
    {
     "data": {
      "image/png": "[encoded data removed]",
      "text/plain": [
       "<Figure size 800x600 with 2 Axes>"
      ]
     },
     "metadata": {},
     "output_type": "display_data"
    }
   ],
   "source": [
    "shap.summary_plot(vals,\n",
    "                  X_test[model.feature_names_],\n",
    "                  max_display= 15,\n",
    "                  plot_type='dot',\n",
    "                  plot_size=.3)"
   ]
  },
  {
   "cell_type": "code",
   "execution_count": 54,
   "id": "50914f65",
   "metadata": {},
   "outputs": [
    {
     "data": {
      "text/html": [
       "<div>\n",
       "<style scoped>\n",
       "    .dataframe tbody tr th:only-of-type {\n",
       "        vertical-align: middle;\n",
       "    }\n",
       "\n",
       "    .dataframe tbody tr th {\n",
       "        vertical-align: top;\n",
       "    }\n",
       "\n",
       "    .dataframe thead th {\n",
       "        text-align: right;\n",
       "    }\n",
       "</style>\n",
       "<table border=\"1\" class=\"dataframe\">\n",
       "  <thead>\n",
       "    <tr style=\"text-align: right;\">\n",
       "      <th></th>\n",
       "      <th>gender</th>\n",
       "      <th>age</th>\n",
       "      <th>weight</th>\n",
       "      <th>admission_type_id</th>\n",
       "      <th>discharge_disposition_id</th>\n",
       "      <th>admission_source_id</th>\n",
       "      <th>time_in_hospital</th>\n",
       "      <th>num_lab_procedures</th>\n",
       "      <th>num_procedures</th>\n",
       "      <th>num_medications</th>\n",
       "      <th>...</th>\n",
       "      <th>citoglipton</th>\n",
       "      <th>insulin</th>\n",
       "      <th>glyburide_metformin</th>\n",
       "      <th>glipizide_metformin</th>\n",
       "      <th>glimepiride_pioglitazone</th>\n",
       "      <th>metformin_rosiglitazone</th>\n",
       "      <th>metformin_pioglitazone</th>\n",
       "      <th>change</th>\n",
       "      <th>diabetesmed</th>\n",
       "      <th>race</th>\n",
       "    </tr>\n",
       "  </thead>\n",
       "  <tbody>\n",
       "    <tr>\n",
       "      <th>8163</th>\n",
       "      <td>Female</td>\n",
       "      <td>85</td>\n",
       "      <td>?</td>\n",
       "      <td>6</td>\n",
       "      <td>1</td>\n",
       "      <td>7</td>\n",
       "      <td>3</td>\n",
       "      <td>49</td>\n",
       "      <td>0</td>\n",
       "      <td>8</td>\n",
       "      <td>...</td>\n",
       "      <td>No</td>\n",
       "      <td>No</td>\n",
       "      <td>No</td>\n",
       "      <td>No</td>\n",
       "      <td>No</td>\n",
       "      <td>No</td>\n",
       "      <td>No</td>\n",
       "      <td>No</td>\n",
       "      <td>No</td>\n",
       "      <td>Caucasian</td>\n",
       "    </tr>\n",
       "  </tbody>\n",
       "</table>\n",
       "<p>1 rows × 45 columns</p>\n",
       "</div>"
      ],
      "text/plain": [
       "      gender  age weight admission_type_id discharge_disposition_id  \\\n",
       "8163  Female   85      ?                 6                        1   \n",
       "\n",
       "     admission_source_id  time_in_hospital  num_lab_procedures  \\\n",
       "8163                   7                 3                  49   \n",
       "\n",
       "      num_procedures  num_medications  ...  citoglipton  insulin  \\\n",
       "8163               0                8  ...           No       No   \n",
       "\n",
       "      glyburide_metformin  glipizide_metformin  glimepiride_pioglitazone  \\\n",
       "8163                   No                   No                        No   \n",
       "\n",
       "      metformin_rosiglitazone  metformin_pioglitazone  change  diabetesmed  \\\n",
       "8163                       No                      No      No           No   \n",
       "\n",
       "           race  \n",
       "8163  Caucasian  \n",
       "\n",
       "[1 rows x 45 columns]"
      ]
     },
     "execution_count": 54,
     "metadata": {},
     "output_type": "execute_result"
    }
   ],
   "source": [
    "X_test.head(1)"
   ]
  },
  {
   "cell_type": "code",
   "execution_count": 55,
   "id": "4dc5ee51",
   "metadata": {},
   "outputs": [
    {
     "data": {
      "image/png": "[encoded data removed]",
      "text/plain": [
       "<Figure size 800x650 with 3 Axes>"
      ]
     },
     "metadata": {},
     "output_type": "display_data"
    }
   ],
   "source": [
    "explainer = shap.TreeExplainer(model, feature_perturbation=\"tree_path_dependent\")\n",
    "shap_values = explainer(X_test.head(1))\n",
    "\n",
    "plt.figure(figsize=(10, 10))\n",
    "\n",
    "fig = shap.plots.waterfall(shap_values[0], max_display=10)\n",
    "plt.show()"
   ]
  }
 ],
 "metadata": {
  "kernelspec": {
   "display_name": "Python 3 (ipykernel)",
   "language": "python",
   "name": "python3"
  },
  "language_info": {
   "codemirror_mode": {
    "name": "ipython",
    "version": 3
   },
   "file_extension": ".py",
   "mimetype": "text/x-python",
   "name": "python",
   "nbconvert_exporter": "python",
   "pygments_lexer": "ipython3",
   "version": "3.11.1"
  }
 },
 "nbformat": 4,
 "nbformat_minor": 5
}
