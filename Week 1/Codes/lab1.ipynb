{
 "cells": [
  {
   "cell_type": "markdown",
   "id": "1d95116d-5f94-4bf1-bf66-12e4a2adb5da",
   "metadata": {},
   "source": [
    "# Questions - Lab Session I"
   ]
  },
  {
   "cell_type": "markdown",
   "id": "4f8b265c-3d43-41f7-a0ca-55e7eda0188f",
   "metadata": {},
   "source": [
    "### 1-Make the following Changes On the Streamlit app"
   ]
  },
  {
   "cell_type": "markdown",
   "id": "d8fed84d-6f87-4a65-aebb-0fb5688a30da",
   "metadata": {},
   "source": [
    "__a__ - Use 'sample' instead of 'head' in the streamlit app. The app must be stable after you select the patient from the patient list\n",
    "<br>\n",
    "__b__ - Modify the app by adding a button. The app should bring the raw features if the user click the button instead of default loading.\n",
    "<br>\n",
    "__c__ - Create a slider as age. The slider can be slided between 15 to 100 interval. When you slide it the selected patient's age variable must be changed with slided value and the calculations must be updated with the new input.\n",
    "\n"
   ]
  },
  {
   "cell_type": "markdown",
   "id": "5960041a-a0e7-458d-989f-9515b946d629",
   "metadata": {},
   "source": [
    "### 2- Modify the FastApi app"
   ]
  },
  {
   "cell_type": "markdown",
   "id": "0fccb145-2969-4109-afaf-b8fb0b4ab7a9",
   "metadata": {},
   "source": [
    "__a__ Create an input model by using pydantic datamodels. You are free to implement your own datamodel up to your taste, feel free to try Enum, str, int whatever you like.\n",
    "<br>\n",
    "__b__ Define a default value for the race column as 'Other'. If the user gives doesn't provide the information the API must set it as 'Other'\n",
    "<br>\n",
    "__c__ Define a response body including Score, Class and runtime informations "
   ]
  },
  {
   "cell_type": "code",
   "execution_count": null,
   "id": "026f149b-4ef1-4374-9b26-1bd9cd72ac38",
   "metadata": {},
   "outputs": [],
   "source": []
  }
 ],
 "metadata": {
  "kernelspec": {
   "display_name": "Python 3 (ipykernel)",
   "language": "python",
   "name": "python3"
  },
  "language_info": {
   "codemirror_mode": {
    "name": "ipython",
    "version": 3
   },
   "file_extension": ".py",
   "mimetype": "text/x-python",
   "name": "python",
   "nbconvert_exporter": "python",
   "pygments_lexer": "ipython3",
   "version": "3.9.7"
  }
 },
 "nbformat": 4,
 "nbformat_minor": 5
}
