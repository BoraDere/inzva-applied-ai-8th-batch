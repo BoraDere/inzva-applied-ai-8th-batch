{
 "cells": [
  {
   "cell_type": "markdown",
   "id": "d9c0b6f0-ad93-4639-bcf4-3dab66386136",
   "metadata": {
    "jupyter": {
     "outputs_hidden": true
    },
    "tags": []
   },
   "source": [
    "!pip install -r requirements.txt -q"
   ]
  },
  {
   "cell_type": "markdown",
   "id": "d5ce1596-052b-4445-8ed0-49b1dff28029",
   "metadata": {},
   "source": [
    "# Get Data"
   ]
  },
  {
   "cell_type": "markdown",
   "id": "58e50fc6-cb3d-44f5-a2db-f7d60da0c090",
   "metadata": {},
   "source": [
    "https://www.kaggle.com/datasets/brandao/diabetes?select=diabetic_data.csv\n",
    "<br>\n",
    "https://archive.ics.uci.edu/dataset/296/diabetes+130-us+hospitals+for+years+1999-2008"
   ]
  },
  {
   "cell_type": "code",
   "execution_count": 2,
   "id": "391daf8d-e8c1-49db-9a70-249586fe03eb",
   "metadata": {},
   "outputs": [],
   "source": [
    "import io\n",
    "import os\n",
    "import requests\n",
    "import zipfile\n",
    "\n",
    "zip_file_url = 'https://archive.ics.uci.edu/static/public/296/diabetes+130-us+hospitals+for+years+1999-2008.zip'\n",
    "\n",
    "# Download data end extract\n",
    "r = requests.get(zip_file_url)\n",
    "z = zipfile.ZipFile(io.BytesIO(r.content))\n",
    "z.extractall(\"./\")"
   ]
  },
  {
   "cell_type": "markdown",
   "id": "7c0af949-b23d-46cf-aff1-46a45bf5f9f1",
   "metadata": {},
   "source": [
    "# Library Imports"
   ]
  },
  {
   "cell_type": "code",
   "execution_count": 3,
   "id": "3268c0d8-6953-4e26-8f0a-cac79663c484",
   "metadata": {},
   "outputs": [],
   "source": [
    "import re\n",
    "import copy\n",
    "\n",
    "import numpy as np\n",
    "import pandas as pd\n",
    "import seaborn as sns\n",
    "\n",
    "from pyarrow import parquet as pq\n",
    "from matplotlib import pyplot as plt\n",
    "\n",
    "from sklearn.metrics import accuracy_score\n",
    "from sklearn.model_selection import train_test_split\n",
    "from catboost import Pool, CatBoostClassifier, CatBoostRegressor\n",
    "\n",
    "pd.options.display.max_rows = 999\n",
    "pd.options.display.max_colwidth = None"
   ]
  },
  {
   "cell_type": "markdown",
   "id": "0506c14f-8309-4248-bf9e-48d2fcc990ec",
   "metadata": {},
   "source": [
    "---"
   ]
  },
  {
   "cell_type": "markdown",
   "id": "5e0449da-b5f6-4102-ac45-5a5d833e4d49",
   "metadata": {},
   "source": [
    "# Import Data"
   ]
  },
  {
   "cell_type": "markdown",
   "id": "f4df84f9-2ec6-48d9-88f3-6c722fe04ebd",
   "metadata": {
    "tags": []
   },
   "source": [
    "## From csv"
   ]
  },
  {
   "cell_type": "code",
   "execution_count": 4,
   "id": "a146027d-2338-4675-8a78-4d0926ef3a89",
   "metadata": {},
   "outputs": [
    {
     "name": "stdout",
     "output_type": "stream",
     "text": [
      "Wall time: 714 ms\n"
     ]
    }
   ],
   "source": [
    "%%time\n",
    "\n",
    "df= pd.read_csv('./diabetic_data.csv')"
   ]
  },
  {
   "cell_type": "markdown",
   "id": "98545025-b58e-4543-9789-701667b14397",
   "metadata": {},
   "source": [
    "## From parquet by using pyarrow"
   ]
  },
  {
   "cell_type": "code",
   "execution_count": 5,
   "id": "11d4925f-3e96-4171-a3f9-74f6509080c7",
   "metadata": {},
   "outputs": [],
   "source": [
    "df.to_parquet('./diabetes.pq')\n",
    "\n",
    "del df"
   ]
  },
  {
   "cell_type": "code",
   "execution_count": 6,
   "id": "8317d758-3e11-4a68-afe1-381b7161459c",
   "metadata": {},
   "outputs": [
    {
     "name": "stdout",
     "output_type": "stream",
     "text": [
      "Wall time: 256 ms\n"
     ]
    }
   ],
   "source": [
    "%%time\n",
    "\n",
    "df= pq.read_table('./diabetes.pq').to_pandas()"
   ]
  },
  {
   "cell_type": "code",
   "execution_count": 7,
   "id": "e2209c36-678b-407f-b55a-82b28faf7ea3",
   "metadata": {
    "tags": []
   },
   "outputs": [
    {
     "data": {
      "text/plain": [
       "pyarrow.Table\n",
       "encounter_id: int64\n",
       "patient_nbr: int64\n",
       "race: string\n",
       "gender: string\n",
       "age: string\n",
       "weight: string\n",
       "admission_type_id: int64\n",
       "discharge_disposition_id: int64\n",
       "admission_source_id: int64\n",
       "time_in_hospital: int64\n",
       "payer_code: string\n",
       "medical_specialty: string\n",
       "num_lab_procedures: int64\n",
       "num_procedures: int64\n",
       "num_medications: int64\n",
       "number_outpatient: int64\n",
       "number_emergency: int64\n",
       "number_inpatient: int64\n",
       "diag_1: string\n",
       "diag_2: string\n",
       "diag_3: string\n",
       "number_diagnoses: int64\n",
       "max_glu_serum: string\n",
       "A1Cresult: string\n",
       "metformin: string\n",
       "repaglinide: string\n",
       "nateglinide: string\n",
       "chlorpropamide: string\n",
       "glimepiride: string\n",
       "acetohexamide: string\n",
       "glipizide: string\n",
       "glyburide: string\n",
       "tolbutamide: string\n",
       "pioglitazone: string\n",
       "rosiglitazone: string\n",
       "acarbose: string\n",
       "miglitol: string\n",
       "troglitazone: string\n",
       "tolazamide: string\n",
       "examide: string\n",
       "citoglipton: string\n",
       "insulin: string\n",
       "glyburide-metformin: string\n",
       "glipizide-metformin: string\n",
       "glimepiride-pioglitazone: string\n",
       "metformin-rosiglitazone: string\n",
       "metformin-pioglitazone: string\n",
       "change: string\n",
       "diabetesMed: string\n",
       "readmitted: string\n",
       "----\n",
       "encounter_id: [[2278392,149190,64410,500364,16680,35754,55842,63768,12522,15738,...,443842070,443842136,443842340,443842778,443847176,443847548,443847782,443854148,443857166,443867222]]\n",
       "patient_nbr: [[8222157,55629189,86047875,82442376,42519267,82637451,84259809,114882984,48330783,63555939,...,140199494,181593374,120975314,86472243,50375628,100162476,74694222,41088789,31693671,175429310]]\n",
       "race: [[\"Caucasian\",\"Caucasian\",\"AfricanAmerican\",\"Caucasian\",\"Caucasian\",\"Caucasian\",\"Caucasian\",\"Caucasian\",\"Caucasian\",\"Caucasian\",...,\"Other\",\"Caucasian\",\"Caucasian\",\"Caucasian\",\"AfricanAmerican\",\"AfricanAmerican\",\"AfricanAmerican\",\"Caucasian\",\"Caucasian\",\"Caucasian\"]]\n",
       "gender: [[\"Female\",\"Female\",\"Female\",\"Male\",\"Male\",\"Male\",\"Male\",\"Male\",\"Female\",\"Female\",...,\"Female\",\"Female\",\"Female\",\"Male\",\"Female\",\"Male\",\"Female\",\"Male\",\"Female\",\"Male\"]]\n",
       "age: [[\"[0-10)\",\"[10-20)\",\"[20-30)\",\"[30-40)\",\"[40-50)\",\"[50-60)\",\"[60-70)\",\"[70-80)\",\"[80-90)\",\"[90-100)\",...,\"[60-70)\",\"[70-80)\",\"[80-90)\",\"[80-90)\",\"[60-70)\",\"[70-80)\",\"[80-90)\",\"[70-80)\",\"[80-90)\",\"[70-80)\"]]\n",
       "weight: [[\"?\",\"?\",\"?\",\"?\",\"?\",\"?\",\"?\",\"?\",\"?\",\"?\",...,\"?\",\"?\",\"?\",\"?\",\"?\",\"?\",\"?\",\"?\",\"?\",\"?\"]]\n",
       "admission_type_id: [[6,1,1,1,1,2,3,1,2,3,...,1,1,1,1,1,1,1,1,2,1]]\n",
       "discharge_disposition_id: [[25,1,1,1,1,1,1,1,1,3,...,1,1,1,1,1,3,4,1,3,1]]\n",
       "admission_source_id: [[1,7,7,7,7,2,2,7,4,4,...,7,7,7,7,7,7,5,7,7,7]]\n",
       "time_in_hospital: [[1,3,2,2,1,3,4,5,13,12,...,2,5,5,1,6,3,5,1,10,6]]\n",
       "..."
      ]
     },
     "execution_count": 7,
     "metadata": {},
     "output_type": "execute_result"
    }
   ],
   "source": [
    "pq.read_table('./diabetes.pq')"
   ]
  },
  {
   "cell_type": "code",
   "execution_count": 8,
   "id": "43890707-264d-4962-b8b1-cf19ed66df72",
   "metadata": {},
   "outputs": [
    {
     "data": {
      "text/html": [
       "<div>\n",
       "<style scoped>\n",
       "    .dataframe tbody tr th:only-of-type {\n",
       "        vertical-align: middle;\n",
       "    }\n",
       "\n",
       "    .dataframe tbody tr th {\n",
       "        vertical-align: top;\n",
       "    }\n",
       "\n",
       "    .dataframe thead th {\n",
       "        text-align: right;\n",
       "    }\n",
       "</style>\n",
       "<table border=\"1\" class=\"dataframe\">\n",
       "  <thead>\n",
       "    <tr style=\"text-align: right;\">\n",
       "      <th></th>\n",
       "      <th>encounter_id</th>\n",
       "      <th>patient_nbr</th>\n",
       "      <th>race</th>\n",
       "      <th>gender</th>\n",
       "      <th>age</th>\n",
       "      <th>weight</th>\n",
       "      <th>admission_type_id</th>\n",
       "      <th>discharge_disposition_id</th>\n",
       "      <th>admission_source_id</th>\n",
       "      <th>time_in_hospital</th>\n",
       "      <th>...</th>\n",
       "      <th>citoglipton</th>\n",
       "      <th>insulin</th>\n",
       "      <th>glyburide-metformin</th>\n",
       "      <th>glipizide-metformin</th>\n",
       "      <th>glimepiride-pioglitazone</th>\n",
       "      <th>metformin-rosiglitazone</th>\n",
       "      <th>metformin-pioglitazone</th>\n",
       "      <th>change</th>\n",
       "      <th>diabetesMed</th>\n",
       "      <th>readmitted</th>\n",
       "    </tr>\n",
       "  </thead>\n",
       "  <tbody>\n",
       "    <tr>\n",
       "      <th>0</th>\n",
       "      <td>2278392</td>\n",
       "      <td>8222157</td>\n",
       "      <td>Caucasian</td>\n",
       "      <td>Female</td>\n",
       "      <td>[0-10)</td>\n",
       "      <td>?</td>\n",
       "      <td>6</td>\n",
       "      <td>25</td>\n",
       "      <td>1</td>\n",
       "      <td>1</td>\n",
       "      <td>...</td>\n",
       "      <td>No</td>\n",
       "      <td>No</td>\n",
       "      <td>No</td>\n",
       "      <td>No</td>\n",
       "      <td>No</td>\n",
       "      <td>No</td>\n",
       "      <td>No</td>\n",
       "      <td>No</td>\n",
       "      <td>No</td>\n",
       "      <td>NO</td>\n",
       "    </tr>\n",
       "    <tr>\n",
       "      <th>1</th>\n",
       "      <td>149190</td>\n",
       "      <td>55629189</td>\n",
       "      <td>Caucasian</td>\n",
       "      <td>Female</td>\n",
       "      <td>[10-20)</td>\n",
       "      <td>?</td>\n",
       "      <td>1</td>\n",
       "      <td>1</td>\n",
       "      <td>7</td>\n",
       "      <td>3</td>\n",
       "      <td>...</td>\n",
       "      <td>No</td>\n",
       "      <td>Up</td>\n",
       "      <td>No</td>\n",
       "      <td>No</td>\n",
       "      <td>No</td>\n",
       "      <td>No</td>\n",
       "      <td>No</td>\n",
       "      <td>Ch</td>\n",
       "      <td>Yes</td>\n",
       "      <td>&gt;30</td>\n",
       "    </tr>\n",
       "    <tr>\n",
       "      <th>2</th>\n",
       "      <td>64410</td>\n",
       "      <td>86047875</td>\n",
       "      <td>AfricanAmerican</td>\n",
       "      <td>Female</td>\n",
       "      <td>[20-30)</td>\n",
       "      <td>?</td>\n",
       "      <td>1</td>\n",
       "      <td>1</td>\n",
       "      <td>7</td>\n",
       "      <td>2</td>\n",
       "      <td>...</td>\n",
       "      <td>No</td>\n",
       "      <td>No</td>\n",
       "      <td>No</td>\n",
       "      <td>No</td>\n",
       "      <td>No</td>\n",
       "      <td>No</td>\n",
       "      <td>No</td>\n",
       "      <td>No</td>\n",
       "      <td>Yes</td>\n",
       "      <td>NO</td>\n",
       "    </tr>\n",
       "    <tr>\n",
       "      <th>3</th>\n",
       "      <td>500364</td>\n",
       "      <td>82442376</td>\n",
       "      <td>Caucasian</td>\n",
       "      <td>Male</td>\n",
       "      <td>[30-40)</td>\n",
       "      <td>?</td>\n",
       "      <td>1</td>\n",
       "      <td>1</td>\n",
       "      <td>7</td>\n",
       "      <td>2</td>\n",
       "      <td>...</td>\n",
       "      <td>No</td>\n",
       "      <td>Up</td>\n",
       "      <td>No</td>\n",
       "      <td>No</td>\n",
       "      <td>No</td>\n",
       "      <td>No</td>\n",
       "      <td>No</td>\n",
       "      <td>Ch</td>\n",
       "      <td>Yes</td>\n",
       "      <td>NO</td>\n",
       "    </tr>\n",
       "    <tr>\n",
       "      <th>4</th>\n",
       "      <td>16680</td>\n",
       "      <td>42519267</td>\n",
       "      <td>Caucasian</td>\n",
       "      <td>Male</td>\n",
       "      <td>[40-50)</td>\n",
       "      <td>?</td>\n",
       "      <td>1</td>\n",
       "      <td>1</td>\n",
       "      <td>7</td>\n",
       "      <td>1</td>\n",
       "      <td>...</td>\n",
       "      <td>No</td>\n",
       "      <td>Steady</td>\n",
       "      <td>No</td>\n",
       "      <td>No</td>\n",
       "      <td>No</td>\n",
       "      <td>No</td>\n",
       "      <td>No</td>\n",
       "      <td>Ch</td>\n",
       "      <td>Yes</td>\n",
       "      <td>NO</td>\n",
       "    </tr>\n",
       "  </tbody>\n",
       "</table>\n",
       "<p>5 rows × 50 columns</p>\n",
       "</div>"
      ],
      "text/plain": [
       "   encounter_id  patient_nbr             race  gender      age weight  \\\n",
       "0       2278392      8222157        Caucasian  Female   [0-10)      ?   \n",
       "1        149190     55629189        Caucasian  Female  [10-20)      ?   \n",
       "2         64410     86047875  AfricanAmerican  Female  [20-30)      ?   \n",
       "3        500364     82442376        Caucasian    Male  [30-40)      ?   \n",
       "4         16680     42519267        Caucasian    Male  [40-50)      ?   \n",
       "\n",
       "   admission_type_id  discharge_disposition_id  admission_source_id  \\\n",
       "0                  6                        25                    1   \n",
       "1                  1                         1                    7   \n",
       "2                  1                         1                    7   \n",
       "3                  1                         1                    7   \n",
       "4                  1                         1                    7   \n",
       "\n",
       "   time_in_hospital  ... citoglipton insulin  glyburide-metformin  \\\n",
       "0                 1  ...          No      No                   No   \n",
       "1                 3  ...          No      Up                   No   \n",
       "2                 2  ...          No      No                   No   \n",
       "3                 2  ...          No      Up                   No   \n",
       "4                 1  ...          No  Steady                   No   \n",
       "\n",
       "   glipizide-metformin  glimepiride-pioglitazone  metformin-rosiglitazone  \\\n",
       "0                   No                        No                       No   \n",
       "1                   No                        No                       No   \n",
       "2                   No                        No                       No   \n",
       "3                   No                        No                       No   \n",
       "4                   No                        No                       No   \n",
       "\n",
       "   metformin-pioglitazone  change diabetesMed readmitted  \n",
       "0                      No      No          No         NO  \n",
       "1                      No      Ch         Yes        >30  \n",
       "2                      No      No         Yes         NO  \n",
       "3                      No      Ch         Yes         NO  \n",
       "4                      No      Ch         Yes         NO  \n",
       "\n",
       "[5 rows x 50 columns]"
      ]
     },
     "execution_count": 8,
     "metadata": {},
     "output_type": "execute_result"
    }
   ],
   "source": [
    "df.head()"
   ]
  },
  {
   "cell_type": "code",
   "execution_count": 9,
   "id": "55b3d44c-69aa-407a-b1a5-777d10f0376f",
   "metadata": {},
   "outputs": [
    {
     "data": {
      "text/plain": [
       "NO     54864\n",
       ">30    35545\n",
       "<30    11357\n",
       "Name: readmitted, dtype: int64"
      ]
     },
     "execution_count": 9,
     "metadata": {},
     "output_type": "execute_result"
    }
   ],
   "source": [
    "df.readmitted.value_counts(dropna=False)"
   ]
  },
  {
   "cell_type": "markdown",
   "id": "896b78b5-01a5-464f-892a-285647cb8d61",
   "metadata": {},
   "source": [
    "For our case we want to target as __readmitted or not__ independent from time period."
   ]
  },
  {
   "cell_type": "code",
   "execution_count": 10,
   "id": "8f510a22-1866-4a52-bc08-42defa3409b6",
   "metadata": {},
   "outputs": [
    {
     "name": "stdout",
     "output_type": "stream",
     "text": [
      "Wall time: 23 ms\n"
     ]
    },
    {
     "data": {
      "text/plain": [
       "0    54864\n",
       "1    46902\n",
       "Name: readmitted, dtype: int64"
      ]
     },
     "execution_count": 10,
     "metadata": {},
     "output_type": "execute_result"
    }
   ],
   "source": [
    "%%time\n",
    "\n",
    "df['readmitted'] = df['readmitted'].map({'NO': 0, '>30': 1, '<30': 1})\n",
    "df.readmitted.value_counts()"
   ]
  },
  {
   "cell_type": "code",
   "execution_count": 11,
   "id": "74887f87-65ef-434d-898c-702183a85768",
   "metadata": {},
   "outputs": [],
   "source": [
    "# Make column names better\n",
    "df = df.rename(columns=lambda name: re.sub('\\W', '_', name.strip()).lower())"
   ]
  },
  {
   "cell_type": "code",
   "execution_count": 12,
   "id": "8d066792-0334-4b6c-aa5d-226fe7469e3b",
   "metadata": {},
   "outputs": [
    {
     "data": {
      "text/html": [
       "<div>\n",
       "<style scoped>\n",
       "    .dataframe tbody tr th:only-of-type {\n",
       "        vertical-align: middle;\n",
       "    }\n",
       "\n",
       "    .dataframe tbody tr th {\n",
       "        vertical-align: top;\n",
       "    }\n",
       "\n",
       "    .dataframe thead th {\n",
       "        text-align: right;\n",
       "    }\n",
       "</style>\n",
       "<table border=\"1\" class=\"dataframe\">\n",
       "  <thead>\n",
       "    <tr style=\"text-align: right;\">\n",
       "      <th></th>\n",
       "      <th>encounter_id</th>\n",
       "      <th>patient_nbr</th>\n",
       "      <th>race</th>\n",
       "      <th>gender</th>\n",
       "      <th>age</th>\n",
       "      <th>weight</th>\n",
       "      <th>admission_type_id</th>\n",
       "      <th>discharge_disposition_id</th>\n",
       "      <th>admission_source_id</th>\n",
       "      <th>time_in_hospital</th>\n",
       "      <th>...</th>\n",
       "      <th>citoglipton</th>\n",
       "      <th>insulin</th>\n",
       "      <th>glyburide_metformin</th>\n",
       "      <th>glipizide_metformin</th>\n",
       "      <th>glimepiride_pioglitazone</th>\n",
       "      <th>metformin_rosiglitazone</th>\n",
       "      <th>metformin_pioglitazone</th>\n",
       "      <th>change</th>\n",
       "      <th>diabetesmed</th>\n",
       "      <th>readmitted</th>\n",
       "    </tr>\n",
       "  </thead>\n",
       "  <tbody>\n",
       "    <tr>\n",
       "      <th>0</th>\n",
       "      <td>2278392</td>\n",
       "      <td>8222157</td>\n",
       "      <td>Caucasian</td>\n",
       "      <td>Female</td>\n",
       "      <td>[0-10)</td>\n",
       "      <td>?</td>\n",
       "      <td>6</td>\n",
       "      <td>25</td>\n",
       "      <td>1</td>\n",
       "      <td>1</td>\n",
       "      <td>...</td>\n",
       "      <td>No</td>\n",
       "      <td>No</td>\n",
       "      <td>No</td>\n",
       "      <td>No</td>\n",
       "      <td>No</td>\n",
       "      <td>No</td>\n",
       "      <td>No</td>\n",
       "      <td>No</td>\n",
       "      <td>No</td>\n",
       "      <td>0</td>\n",
       "    </tr>\n",
       "    <tr>\n",
       "      <th>1</th>\n",
       "      <td>149190</td>\n",
       "      <td>55629189</td>\n",
       "      <td>Caucasian</td>\n",
       "      <td>Female</td>\n",
       "      <td>[10-20)</td>\n",
       "      <td>?</td>\n",
       "      <td>1</td>\n",
       "      <td>1</td>\n",
       "      <td>7</td>\n",
       "      <td>3</td>\n",
       "      <td>...</td>\n",
       "      <td>No</td>\n",
       "      <td>Up</td>\n",
       "      <td>No</td>\n",
       "      <td>No</td>\n",
       "      <td>No</td>\n",
       "      <td>No</td>\n",
       "      <td>No</td>\n",
       "      <td>Ch</td>\n",
       "      <td>Yes</td>\n",
       "      <td>1</td>\n",
       "    </tr>\n",
       "    <tr>\n",
       "      <th>2</th>\n",
       "      <td>64410</td>\n",
       "      <td>86047875</td>\n",
       "      <td>AfricanAmerican</td>\n",
       "      <td>Female</td>\n",
       "      <td>[20-30)</td>\n",
       "      <td>?</td>\n",
       "      <td>1</td>\n",
       "      <td>1</td>\n",
       "      <td>7</td>\n",
       "      <td>2</td>\n",
       "      <td>...</td>\n",
       "      <td>No</td>\n",
       "      <td>No</td>\n",
       "      <td>No</td>\n",
       "      <td>No</td>\n",
       "      <td>No</td>\n",
       "      <td>No</td>\n",
       "      <td>No</td>\n",
       "      <td>No</td>\n",
       "      <td>Yes</td>\n",
       "      <td>0</td>\n",
       "    </tr>\n",
       "    <tr>\n",
       "      <th>3</th>\n",
       "      <td>500364</td>\n",
       "      <td>82442376</td>\n",
       "      <td>Caucasian</td>\n",
       "      <td>Male</td>\n",
       "      <td>[30-40)</td>\n",
       "      <td>?</td>\n",
       "      <td>1</td>\n",
       "      <td>1</td>\n",
       "      <td>7</td>\n",
       "      <td>2</td>\n",
       "      <td>...</td>\n",
       "      <td>No</td>\n",
       "      <td>Up</td>\n",
       "      <td>No</td>\n",
       "      <td>No</td>\n",
       "      <td>No</td>\n",
       "      <td>No</td>\n",
       "      <td>No</td>\n",
       "      <td>Ch</td>\n",
       "      <td>Yes</td>\n",
       "      <td>0</td>\n",
       "    </tr>\n",
       "    <tr>\n",
       "      <th>4</th>\n",
       "      <td>16680</td>\n",
       "      <td>42519267</td>\n",
       "      <td>Caucasian</td>\n",
       "      <td>Male</td>\n",
       "      <td>[40-50)</td>\n",
       "      <td>?</td>\n",
       "      <td>1</td>\n",
       "      <td>1</td>\n",
       "      <td>7</td>\n",
       "      <td>1</td>\n",
       "      <td>...</td>\n",
       "      <td>No</td>\n",
       "      <td>Steady</td>\n",
       "      <td>No</td>\n",
       "      <td>No</td>\n",
       "      <td>No</td>\n",
       "      <td>No</td>\n",
       "      <td>No</td>\n",
       "      <td>Ch</td>\n",
       "      <td>Yes</td>\n",
       "      <td>0</td>\n",
       "    </tr>\n",
       "  </tbody>\n",
       "</table>\n",
       "<p>5 rows × 50 columns</p>\n",
       "</div>"
      ],
      "text/plain": [
       "   encounter_id  patient_nbr             race  gender      age weight  \\\n",
       "0       2278392      8222157        Caucasian  Female   [0-10)      ?   \n",
       "1        149190     55629189        Caucasian  Female  [10-20)      ?   \n",
       "2         64410     86047875  AfricanAmerican  Female  [20-30)      ?   \n",
       "3        500364     82442376        Caucasian    Male  [30-40)      ?   \n",
       "4         16680     42519267        Caucasian    Male  [40-50)      ?   \n",
       "\n",
       "   admission_type_id  discharge_disposition_id  admission_source_id  \\\n",
       "0                  6                        25                    1   \n",
       "1                  1                         1                    7   \n",
       "2                  1                         1                    7   \n",
       "3                  1                         1                    7   \n",
       "4                  1                         1                    7   \n",
       "\n",
       "   time_in_hospital  ... citoglipton insulin  glyburide_metformin  \\\n",
       "0                 1  ...          No      No                   No   \n",
       "1                 3  ...          No      Up                   No   \n",
       "2                 2  ...          No      No                   No   \n",
       "3                 2  ...          No      Up                   No   \n",
       "4                 1  ...          No  Steady                   No   \n",
       "\n",
       "   glipizide_metformin  glimepiride_pioglitazone  metformin_rosiglitazone  \\\n",
       "0                   No                        No                       No   \n",
       "1                   No                        No                       No   \n",
       "2                   No                        No                       No   \n",
       "3                   No                        No                       No   \n",
       "4                   No                        No                       No   \n",
       "\n",
       "   metformin_pioglitazone  change diabetesmed readmitted  \n",
       "0                      No      No          No          0  \n",
       "1                      No      Ch         Yes          1  \n",
       "2                      No      No         Yes          0  \n",
       "3                      No      Ch         Yes          0  \n",
       "4                      No      Ch         Yes          0  \n",
       "\n",
       "[5 rows x 50 columns]"
      ]
     },
     "execution_count": 12,
     "metadata": {},
     "output_type": "execute_result"
    }
   ],
   "source": [
    "df.head()"
   ]
  },
  {
   "cell_type": "markdown",
   "id": "a0f4e8ae-33f1-45b0-a1fe-fac1f663c693",
   "metadata": {},
   "source": [
    "---"
   ]
  },
  {
   "cell_type": "markdown",
   "id": "be2d7c35-f23a-4d34-8309-2582dc160093",
   "metadata": {},
   "source": [
    "# Data Wrangling"
   ]
  },
  {
   "cell_type": "code",
   "execution_count": 13,
   "id": "2bd54a20-bfd9-47fa-8982-f2de9b9ed5f1",
   "metadata": {},
   "outputs": [
    {
     "data": {
      "text/plain": [
       "weight               96.858479\n",
       "medical_specialty    49.082208\n",
       "payer_code           39.557416\n",
       "race                  2.233555\n",
       "diag_3                1.398306\n",
       "dtype: float64"
      ]
     },
     "execution_count": 13,
     "metadata": {},
     "output_type": "execute_result"
    }
   ],
   "source": [
    "df[['encounter_id', 'patient_nbr']]= df[['encounter_id', 'patient_nbr']].astype(str)\n",
    "\n",
    "# Turning ? to nulls\n",
    "df = df.replace({'?': np.nan})\n",
    "\n",
    "# Studying the nulls percentage for each column\n",
    "nulls_info = (df.isnull().sum()/df.shape[0] * 100).sort_values(ascending=False)\n",
    "nulls_info.head()"
   ]
  },
  {
   "cell_type": "markdown",
   "id": "da76df18-cd08-488c-b40f-adb308937162",
   "metadata": {},
   "source": [
    "* We can see that we should probably drop the 'weight', 'medical_specialty', 'payer_code' variables. In order to check if we really should do it, however, we must first check if those nulls are actually providing some info about the target."
   ]
  },
  {
   "cell_type": "code",
   "execution_count": 14,
   "id": "e2cbfb2f-9062-49da-92a4-189332bc850d",
   "metadata": {},
   "outputs": [
    {
     "name": "stdout",
     "output_type": "stream",
     "text": [
      "               mean       std\n",
      "weight                       \n",
      "None       0.456888  0.498140\n",
      "[25-50)    0.515464  0.502357\n",
      "[150-175)  0.542857  0.505433\n",
      "[175-200)  0.545455  0.522233\n",
      "[50-75)    0.550725  0.497698\n",
      "[125-150)  0.558621  0.498273\n",
      "[100-125)  0.574400  0.494830\n",
      "[75-100)   0.610778  0.487756\n",
      "[0-25)     0.812500  0.394443\n",
      ">200       1.000000  0.000000\n",
      "                                          mean       std\n",
      "medical_specialty                                       \n",
      "Psychiatry-Addictive                  0.000000       NaN\n",
      "Perinatology                          0.000000       NaN\n",
      "Proctology                            0.000000       NaN\n",
      "Neurophysiology                       0.000000       NaN\n",
      "Speech                                0.000000       NaN\n",
      "Pediatrics-Endocrinology              0.150943  0.359125\n",
      "Obstetrics                            0.157895  0.374634\n",
      "DCPTEAM                               0.166667  0.408248\n",
      "Gynecology                            0.172414  0.381039\n",
      "ObstetricsandGynecology               0.211624  0.408765\n",
      "Surgery-Neuro                         0.230769  0.421776\n",
      "Otolaryngology                        0.248000  0.433590\n",
      "Pediatrics-Hematology-Oncology        0.250000  0.500000\n",
      "Endocrinology-Metabolism              0.250000  0.462910\n",
      "Surgery-Pediatric                     0.250000  0.462910\n",
      "Surgery-Cardiovascular/Thoracic       0.265337  0.441852\n",
      "Surgeon                               0.266667  0.447214\n",
      "Surgery-Maxillofacial                 0.272727  0.467099\n",
      "Obsterics&Gynecology-GynecologicOnco  0.280000  0.458258\n",
      "Neurology                             0.285714  0.452871\n",
      "Surgery-Cardiovascular                0.306122  0.463251\n",
      "Orthopedics-Reconstructive            0.312247  0.463598\n",
      "Anesthesiology-Pediatric              0.315789  0.477567\n",
      "SurgicalSpecialty                     0.333333  0.478714\n",
      "Anesthesiology                        0.333333  0.492366\n",
      "Pediatrics-EmergencyMedicine          0.333333  0.577350\n",
      "Orthopedics                           0.341429  0.474358\n",
      "Ophthalmology                         0.342105  0.480783\n",
      "Pediatrics-CriticalCare               0.356322  0.481688\n",
      "Surgery-Colon&Rectal                  0.363636  0.504525\n",
      "Urology                               0.369343  0.482980\n",
      "Pediatrics                            0.374016  0.484823\n",
      "Endocrinology                         0.375000  0.486153\n",
      "Surgery-Thoracic                      0.376147  0.486655\n",
      "PhysicalMedicineandRehabilitation     0.393862  0.489231\n",
      "Pediatrics-Neurology                  0.400000  0.516398\n",
      "Hospitalist                           0.403509  0.494962\n",
      "Surgery-Plastic                       0.414634  0.498779\n",
      "Radiology                             0.415094  0.497454\n",
      "Cardiology                            0.425635  0.494485\n",
      "Psychology                            0.425743  0.496921\n",
      "Radiologist                           0.426316  0.494758\n",
      "Psychiatry                            0.428571  0.495162\n",
      "Psychiatry-Child/Adolescent           0.428571  0.534522\n",
      "InternalMedicine                      0.435190  0.495799\n",
      "Surgery-General                       0.447886  0.497357\n",
      "Rheumatology                          0.470588  0.514496\n",
      "Family/GeneralPractice                0.476613  0.499486\n",
      "Oncology                              0.477011  0.500190\n",
      "None                                  0.480430  0.499622\n",
      "Pulmonology                           0.486797  0.500113\n",
      "Gastroenterology                      0.489362  0.500331\n",
      "OutreachServices                      0.500000  0.522233\n",
      "Hematology/Oncology                   0.502415  0.501206\n",
      "Emergency/Trauma                      0.509187  0.499949\n",
      "Surgery-Vascular                      0.514071  0.500271\n",
      "Osteopath                             0.538462  0.505035\n",
      "InfectiousDiseases                    0.540541  0.505228\n",
      "PhysicianNotFound                     0.545455  0.522233\n",
      "Nephrology                            0.566646  0.495692\n",
      "Podiatry                              0.580000  0.496045\n",
      "Hematology                            0.609756  0.490807\n",
      "Pathology                             0.647059  0.492592\n",
      "Cardiology-Pediatric                  0.714286  0.487950\n",
      "Dentistry                             0.750000  0.500000\n",
      "Pediatrics-Pulmonology                0.760000  0.435890\n",
      "AllergyandImmunology                  0.857143  0.377964\n",
      "Dermatology                           1.000000       NaN\n",
      "Pediatrics-InfectiousDiseases         1.000000       NaN\n",
      "Pediatrics-AllergyandImmunology       1.000000  0.000000\n",
      "Surgery-PlasticwithinHeadandNeck      1.000000       NaN\n",
      "Resident                              1.000000  0.000000\n",
      "SportsMedicine                        1.000000       NaN\n",
      "                mean       std\n",
      "payer_code                    \n",
      "FR          0.000000       NaN\n",
      "WC          0.214815  0.412223\n",
      "CH          0.315068  0.466142\n",
      "PO          0.317568  0.465924\n",
      "BC          0.370999  0.483124\n",
      "UN          0.377042  0.484745\n",
      "CP          0.392815  0.488473\n",
      "SI          0.436364  0.500505\n",
      "CM          0.443469  0.496922\n",
      "OG          0.454017  0.498122\n",
      "None        0.458441  0.498276\n",
      "HM          0.472426  0.499279\n",
      "OT          0.473684  0.501956\n",
      "MD          0.474236  0.499406\n",
      "SP          0.475135  0.499431\n",
      "MC          0.486821  0.499834\n",
      "DM          0.517304  0.500156\n",
      "MP          0.607595  0.491406\n"
     ]
    }
   ],
   "source": [
    "vars_to_study = ['weight', 'medical_specialty', 'payer_code']\n",
    "df_tmp = copy.deepcopy(df[vars_to_study + ['readmitted']])\n",
    "df_tmp = df_tmp.applymap(lambda x: 'None' if x is np.nan else x)\n",
    "\n",
    "for col in vars_to_study:\n",
    "    tmp = df_tmp.groupby(col).agg({'readmitted': ['mean', 'std']})\n",
    "    tmp.columns = tmp.columns.droplevel(0)\n",
    "    print(tmp.sort_values('mean'))"
   ]
  },
  {
   "cell_type": "markdown",
   "id": "da4f578e-d294-43eb-afc3-1df242ad9df3",
   "metadata": {},
   "source": [
    "* We can see how for both *payer_code* and *medical_specialty* columns the target distribution is mixed whith the whole population. This means nulls are non-informative.\n",
    "* *weight*, however, has nulls who define a different segment of data, based on the sensible difference we can observe over its mean. The big standard deviation just means the label is not only defined by this column, so it's perfectly normal.\n",
    "* We decide then to keep this column, so we must fill those nulls with some kind of flag. We decide to just refill themwith the \"?\" flag value."
   ]
  },
  {
   "cell_type": "code",
   "execution_count": 15,
   "id": "1ea530cd-45f7-43f0-affa-703887c97f38",
   "metadata": {},
   "outputs": [],
   "source": [
    "df = df.drop(columns=['medical_specialty', 'payer_code'])\n",
    "df = df.fillna({'weight': '?'})"
   ]
  },
  {
   "cell_type": "code",
   "execution_count": 16,
   "id": "abf1b63c-818f-4b3e-85b2-a9b73663e729",
   "metadata": {},
   "outputs": [],
   "source": [
    "dummy_variables = ['race', 'gender', 'weight', 'admission_source_id', 'admission_type_id', 'discharge_disposition_id']\n",
    "binary_columns = ['change', 'diabetesmed']"
   ]
  },
  {
   "cell_type": "code",
   "execution_count": 17,
   "id": "a1b63249-7f42-459e-9ae4-504faa86f4ab",
   "metadata": {},
   "outputs": [
    {
     "name": "stdout",
     "output_type": "stream",
     "text": [
      "change : 0\n",
      "diabetesmed : 0\n",
      "race : 2273\n",
      "gender : 0\n",
      "weight : 0\n",
      "admission_source_id : 0\n",
      "admission_type_id : 0\n",
      "discharge_disposition_id : 0\n"
     ]
    }
   ],
   "source": [
    "for col in binary_columns + dummy_variables:\n",
    "    print(col, ':', sum(pd.isnull(df[col])))"
   ]
  },
  {
   "cell_type": "code",
   "execution_count": 18,
   "id": "fd3d0768-fd64-446a-a266-ac4c5214d3ae",
   "metadata": {},
   "outputs": [
    {
     "name": "stdout",
     "output_type": "stream",
     "text": [
      "None    96420\n",
      "Norm     2597\n",
      ">200     1485\n",
      ">300     1264\n",
      "Name: max_glu_serum, dtype: int64\n",
      "None    96420\n",
      "Norm     2597\n",
      ">200     1485\n",
      ">300     1264\n",
      "Name: max_glu_serum, dtype: int64\n",
      "None    84748\n",
      ">8       8216\n",
      "Norm     4990\n",
      ">7       3812\n",
      "Name: a1cresult, dtype: int64\n"
     ]
    }
   ],
   "source": [
    "# Convert ordinal categorics to numeric \n",
    "\n",
    "print(df.max_glu_serum.value_counts())\n",
    "\n",
    "def age_dict(age_range):\n",
    "    \n",
    "    age_values = {'[0-10)': 5, '[10-20)': 15, '[20-30)': 25, \n",
    "                  '[30-40)': 35, '[40-50)': 45, '[50-60)': 55, \n",
    "                  '[60-70)': 65, '[70-80)': 75, '[80-90)': 85, \n",
    "                  '[90-100)': 95}\n",
    "    \n",
    "    if age_range in age_values.keys():\n",
    "        value = age_values[age_range]\n",
    "    else: \n",
    "        value = np.nan\n",
    "    \n",
    "    return value\n",
    "\n",
    "df.age = df.age.map(age_dict)\n",
    "\n",
    "print(df.max_glu_serum.value_counts())\n",
    "\n",
    "def max_glu_serum_dict(max_glu_serum_range):\n",
    "    \n",
    "    max_glu_serum_values = {'None': 0, \n",
    "                            'Norm': 1, \n",
    "                            '>200': 2, \n",
    "                            '>300': 3}\n",
    "    \n",
    "    if max_glu_serum_range in max_glu_serum_values.keys():\n",
    "        value = max_glu_serum_values[max_glu_serum_range]\n",
    "    else: value = np.nan\n",
    "    \n",
    "    return value\n",
    "\n",
    "print(df.a1cresult.value_counts())\n",
    "\n",
    "def a1cresult_dict(a1cresult_range):\n",
    "    \n",
    "    a1cresult_values = {'None': 0, \n",
    "                        'Norm': 1, \n",
    "                        '>7': 2, \n",
    "                        '>8': 3}\n",
    "    \n",
    "    if a1cresult_range in a1cresult_values.keys():\n",
    "        value = a1cresult_values[a1cresult_range]\n",
    "    else: value = np.nan\n",
    "    \n",
    "    return value\n",
    "\n",
    "df.max_glu_serum = df.max_glu_serum.map(max_glu_serum_dict)\n",
    "df.a1cresult = df.a1cresult.map(a1cresult_dict)"
   ]
  },
  {
   "cell_type": "code",
   "execution_count": 19,
   "id": "3a4a4713-f571-4b50-85eb-fd0edd122531",
   "metadata": {},
   "outputs": [
    {
     "data": {
      "text/plain": [
       "Caucasian          76099\n",
       "AfricanAmerican    19210\n",
       "NaN                 2273\n",
       "Hispanic            2037\n",
       "Other               1506\n",
       "Asian                641\n",
       "Name: race, dtype: int64"
      ]
     },
     "execution_count": 19,
     "metadata": {},
     "output_type": "execute_result"
    }
   ],
   "source": [
    "df.race.value_counts(dropna=False)"
   ]
  },
  {
   "cell_type": "code",
   "execution_count": 20,
   "id": "2e42f10e-16a8-460c-a49f-8296d7d1ec2c",
   "metadata": {},
   "outputs": [],
   "source": [
    "known_patients = df[~pd.isnull(df.race)][['patient_nbr', 'race']].drop_duplicates()\n",
    "#assert max(known_patients.groupby('patient_nbr').count().race)  == 1, 'Some patients exist that have declared more than a single race over different visits to the hospital'"
   ]
  },
  {
   "cell_type": "markdown",
   "id": "0fda1009-64c0-468b-a554-1415b6b5e774",
   "metadata": {},
   "source": [
    "* This would take us off guard, but is an example of good practices to include *assert* commands in between our code.\n",
    "* We shall check what's happening here."
   ]
  },
  {
   "cell_type": "code",
   "execution_count": 21,
   "id": "2bab5ab6-8bb1-4937-9107-dae17b883251",
   "metadata": {},
   "outputs": [
    {
     "data": {
      "text/html": [
       "<div>\n",
       "<style scoped>\n",
       "    .dataframe tbody tr th:only-of-type {\n",
       "        vertical-align: middle;\n",
       "    }\n",
       "\n",
       "    .dataframe tbody tr th {\n",
       "        vertical-align: top;\n",
       "    }\n",
       "\n",
       "    .dataframe thead th {\n",
       "        text-align: right;\n",
       "    }\n",
       "</style>\n",
       "<table border=\"1\" class=\"dataframe\">\n",
       "  <thead>\n",
       "    <tr style=\"text-align: right;\">\n",
       "      <th></th>\n",
       "      <th>race</th>\n",
       "    </tr>\n",
       "    <tr>\n",
       "      <th>patient_nbr</th>\n",
       "      <th></th>\n",
       "    </tr>\n",
       "  </thead>\n",
       "  <tbody>\n",
       "    <tr>\n",
       "      <th>107849052</th>\n",
       "      <td>3</td>\n",
       "    </tr>\n",
       "    <tr>\n",
       "      <th>106895331</th>\n",
       "      <td>3</td>\n",
       "    </tr>\n",
       "    <tr>\n",
       "      <th>98962209</th>\n",
       "      <td>2</td>\n",
       "    </tr>\n",
       "    <tr>\n",
       "      <th>561609</th>\n",
       "      <td>2</td>\n",
       "    </tr>\n",
       "  </tbody>\n",
       "</table>\n",
       "</div>"
      ],
      "text/plain": [
       "             race\n",
       "patient_nbr      \n",
       "107849052       3\n",
       "106895331       3\n",
       "98962209        2\n",
       "561609          2"
      ]
     },
     "execution_count": 21,
     "metadata": {},
     "output_type": "execute_result"
    }
   ],
   "source": [
    "known_patients.groupby('patient_nbr').count().sort_values('race', ascending=False).head(4)"
   ]
  },
  {
   "cell_type": "code",
   "execution_count": 22,
   "id": "d76c9224-ef72-4e7c-ab04-7bd3b8f043f4",
   "metadata": {},
   "outputs": [
    {
     "data": {
      "text/plain": [
       "12669    Caucasian\n",
       "20723     Hispanic\n",
       "Name: race, dtype: object"
      ]
     },
     "execution_count": 22,
     "metadata": {},
     "output_type": "execute_result"
    }
   ],
   "source": [
    "df[df.patient_nbr == '561609'].race"
   ]
  },
  {
   "cell_type": "markdown",
   "id": "629d118c-38a2-4c10-bd16-6638c0299eb2",
   "metadata": {},
   "source": [
    "Create an imputer model to __impute race column__"
   ]
  },
  {
   "cell_type": "code",
   "execution_count": 23,
   "id": "ba3b95ca-cbe3-446a-beaf-350fa6841c09",
   "metadata": {},
   "outputs": [
    {
     "name": "stdout",
     "output_type": "stream",
     "text": [
      "The number of nulls on the race column before this step is 2273\n",
      "The number of nulls on the race column after this step is 2130\n"
     ]
    }
   ],
   "source": [
    "print('The number of nulls on the race column before this step is {}'.format(sum(pd.isnull(df.race))))\n",
    "\n",
    "known_patients_n_races = known_patients.groupby('patient_nbr').count()\n",
    "\n",
    "invalid_patient_nbr = list(known_patients_n_races[known_patients_n_races.race != 1].index)\n",
    "known_patients = known_patients[~known_patients.patient_nbr.isin(invalid_patient_nbr)]\n",
    "\n",
    "assert known_patients.shape[0] == known_patients.drop_duplicates(subset='patient_nbr').shape[0], 'Duplicates in patient_nbr'\n",
    "\n",
    "# We can already join it with the df df. We already have its primary key ready.\n",
    "df = pd.merge(df, known_patients, how='left', on='patient_nbr')\n",
    "\n",
    "# If we don't know the race using race_x (original), we use race_y (calculated)\n",
    "df['race'] = df['race_x'].combine_first(df['race_y'])\n",
    "df = df.drop(columns=['race_x', 'race_y'])\n",
    "\n",
    "print('The number of nulls on the race column after this step is {}'.format(sum(pd.isnull(df.race))))"
   ]
  },
  {
   "cell_type": "code",
   "execution_count": 24,
   "id": "8afa92d0-8972-4575-87df-78a7b45f8fd1",
   "metadata": {},
   "outputs": [
    {
     "data": {
      "text/plain": [
       "gender    object\n",
       "age        int64\n",
       "weight    object\n",
       "dtype: object"
      ]
     },
     "execution_count": 24,
     "metadata": {},
     "output_type": "execute_result"
    }
   ],
   "source": [
    "# We shall imagine that, for example, those columns could define well enough a pattern to explain the race.\n",
    "cols_for_imputation = ['gender', 'age', 'weight']\n",
    "cols_for_imputation = [col for col in df.columns for dummy_root in cols_for_imputation if dummy_root in col]\n",
    "df[cols_for_imputation].dtypes"
   ]
  },
  {
   "cell_type": "code",
   "execution_count": 25,
   "id": "5f470eb5-2a05-4f7a-9013-78139b3e3c6f",
   "metadata": {},
   "outputs": [
    {
     "data": {
      "text/plain": [
       "?            98569\n",
       "[75-100)      1336\n",
       "[50-75)        897\n",
       "[100-125)      625\n",
       "[125-150)      145\n",
       "[25-50)         97\n",
       "[0-25)          48\n",
       "[150-175)       35\n",
       "[175-200)       11\n",
       ">200             3\n",
       "Name: weight, dtype: int64"
      ]
     },
     "execution_count": 25,
     "metadata": {},
     "output_type": "execute_result"
    }
   ],
   "source": [
    "df['weight'].value_counts()"
   ]
  },
  {
   "cell_type": "code",
   "execution_count": 26,
   "id": "cab398cc-6515-45e6-a0e4-c41f75979eab",
   "metadata": {},
   "outputs": [
    {
     "data": {
      "text/html": [
       "<div>\n",
       "<style scoped>\n",
       "    .dataframe tbody tr th:only-of-type {\n",
       "        vertical-align: middle;\n",
       "    }\n",
       "\n",
       "    .dataframe tbody tr th {\n",
       "        vertical-align: top;\n",
       "    }\n",
       "\n",
       "    .dataframe thead th {\n",
       "        text-align: right;\n",
       "    }\n",
       "</style>\n",
       "<table border=\"1\" class=\"dataframe\">\n",
       "  <thead>\n",
       "    <tr style=\"text-align: right;\">\n",
       "      <th></th>\n",
       "      <th>gender</th>\n",
       "      <th>age</th>\n",
       "      <th>weight</th>\n",
       "    </tr>\n",
       "  </thead>\n",
       "  <tbody>\n",
       "    <tr>\n",
       "      <th>0</th>\n",
       "      <td>Female</td>\n",
       "      <td>5</td>\n",
       "      <td>?</td>\n",
       "    </tr>\n",
       "    <tr>\n",
       "      <th>1</th>\n",
       "      <td>Female</td>\n",
       "      <td>15</td>\n",
       "      <td>?</td>\n",
       "    </tr>\n",
       "    <tr>\n",
       "      <th>2</th>\n",
       "      <td>Female</td>\n",
       "      <td>25</td>\n",
       "      <td>?</td>\n",
       "    </tr>\n",
       "    <tr>\n",
       "      <th>3</th>\n",
       "      <td>Male</td>\n",
       "      <td>35</td>\n",
       "      <td>?</td>\n",
       "    </tr>\n",
       "    <tr>\n",
       "      <th>4</th>\n",
       "      <td>Male</td>\n",
       "      <td>45</td>\n",
       "      <td>?</td>\n",
       "    </tr>\n",
       "  </tbody>\n",
       "</table>\n",
       "</div>"
      ],
      "text/plain": [
       "   gender  age weight\n",
       "0  Female    5      ?\n",
       "1  Female   15      ?\n",
       "2  Female   25      ?\n",
       "3    Male   35      ?\n",
       "4    Male   45      ?"
      ]
     },
     "execution_count": 26,
     "metadata": {},
     "output_type": "execute_result"
    }
   ],
   "source": [
    "df[cols_for_imputation].head()"
   ]
  },
  {
   "cell_type": "code",
   "execution_count": 27,
   "id": "2026056d-bc4d-477a-b313-1ed6df7d3309",
   "metadata": {},
   "outputs": [
    {
     "data": {
      "text/plain": [
       "Caucasian          20000\n",
       "AfricanAmerican    19223\n",
       "Hispanic            2047\n",
       "Other               1513\n",
       "Asian                641\n",
       "Name: race, dtype: int64"
      ]
     },
     "execution_count": 27,
     "metadata": {},
     "output_type": "execute_result"
    }
   ],
   "source": [
    "x_train_race = df[~pd.isnull(df.race)][cols_for_imputation]\n",
    "y_train_race = df[~pd.isnull(df.race)]['race']\n",
    "x_test_race = df[pd.isnull(df.race)][cols_for_imputation]\n",
    "\n",
    "# We shall apply undersampling to balance the categorical levels\n",
    "y_train_race_1 = y_train_race[y_train_race != 'Caucasian']\n",
    "y_train_race_2 = y_train_race[y_train_race == 'Caucasian']\n",
    "y_train_race_2 = y_train_race_2.sample(n=20000)\n",
    "\n",
    "y_train_race = y_train_race_1.append(y_train_race_2)\n",
    "x_train_race = x_train_race.loc[y_train_race.index]\n",
    "y_train_race.value_counts()\n"
   ]
  },
  {
   "cell_type": "code",
   "execution_count": 28,
   "id": "36ed42a6-e544-4c51-ab4a-2e05b47a2d23",
   "metadata": {},
   "outputs": [
    {
     "name": "stdout",
     "output_type": "stream",
     "text": [
      "Learning rate set to 0.095906\n",
      "0:\tlearn: 1.5064160\ttotal: 222ms\tremaining: 3m 41s\n",
      "250:\tlearn: 1.0011698\ttotal: 10.2s\tremaining: 30.4s\n",
      "500:\tlearn: 0.9994476\ttotal: 21.1s\tremaining: 21s\n",
      "750:\tlearn: 0.9980380\ttotal: 31.8s\tremaining: 10.5s\n",
      "999:\tlearn: 0.9969336\ttotal: 40.8s\tremaining: 0us\n"
     ]
    },
    {
     "data": {
      "text/plain": [
       "array([['Caucasian'],\n",
       "       ['AfricanAmerican'],\n",
       "       ['Caucasian'],\n",
       "       ...,\n",
       "       ['Caucasian'],\n",
       "       ['AfricanAmerican'],\n",
       "       ['Caucasian']], dtype=object)"
      ]
     },
     "execution_count": 28,
     "metadata": {},
     "output_type": "execute_result"
    }
   ],
   "source": [
    "race_imputer = CatBoostClassifier(max_depth=3,\n",
    "                                  random_seed=10)\n",
    "race_imputer.fit(x_train_race, \n",
    "                 y_train_race,cat_features=['gender','weight'],\n",
    "                 verbose=250\n",
    "             )\n",
    "y_test_race = race_imputer.predict(x_test_race)\n",
    "y_test_race"
   ]
  },
  {
   "cell_type": "code",
   "execution_count": 29,
   "id": "3cf9e684-9a25-4b3c-bc84-7ec890d14b7e",
   "metadata": {},
   "outputs": [
    {
     "name": "stdout",
     "output_type": "stream",
     "text": [
      "Wall time: 10 ms\n"
     ]
    }
   ],
   "source": [
    "%%time\n",
    "os.mkdir('./artifacts')\n",
    "race_imputer.save_model('./artifacts/imputer_model.cbm')"
   ]
  },
  {
   "cell_type": "code",
   "execution_count": 30,
   "id": "183b5d02-7dbd-4c7b-83d2-ff92b2cab538",
   "metadata": {},
   "outputs": [
    {
     "data": {
      "text/plain": [
       "Caucasian          77514\n",
       "AfricanAmerican    20049\n",
       "Hispanic            2047\n",
       "Other               1515\n",
       "Asian                641\n",
       "Name: race, dtype: int64"
      ]
     },
     "execution_count": 30,
     "metadata": {},
     "output_type": "execute_result"
    }
   ],
   "source": [
    "df.loc[df.race.isna(),'race']= race_imputer.predict(df.loc[df.race.isna(),race_imputer.feature_names_])\n",
    "df.race.value_counts(dropna=False)"
   ]
  },
  {
   "cell_type": "markdown",
   "id": "8a14c6ce-e450-489b-9bd5-eba163c46cae",
   "metadata": {},
   "source": [
    "There are bad values for numeric columns diag_1, diag_2, diag_3"
   ]
  },
  {
   "cell_type": "code",
   "execution_count": 31,
   "id": "8b8adda4-67e9-4db4-8a85-6387cce7457e",
   "metadata": {},
   "outputs": [
    {
     "data": {
      "text/html": [
       "<div>\n",
       "<style scoped>\n",
       "    .dataframe tbody tr th:only-of-type {\n",
       "        vertical-align: middle;\n",
       "    }\n",
       "\n",
       "    .dataframe tbody tr th {\n",
       "        vertical-align: top;\n",
       "    }\n",
       "\n",
       "    .dataframe thead th {\n",
       "        text-align: right;\n",
       "    }\n",
       "</style>\n",
       "<table border=\"1\" class=\"dataframe\">\n",
       "  <thead>\n",
       "    <tr style=\"text-align: right;\">\n",
       "      <th></th>\n",
       "      <th>diag_1</th>\n",
       "      <th>diag_2</th>\n",
       "      <th>diag_3</th>\n",
       "    </tr>\n",
       "  </thead>\n",
       "  <tbody>\n",
       "    <tr>\n",
       "      <th>0</th>\n",
       "      <td>250.83</td>\n",
       "      <td>NaN</td>\n",
       "      <td>NaN</td>\n",
       "    </tr>\n",
       "    <tr>\n",
       "      <th>1</th>\n",
       "      <td>276</td>\n",
       "      <td>250.01</td>\n",
       "      <td>255</td>\n",
       "    </tr>\n",
       "    <tr>\n",
       "      <th>2</th>\n",
       "      <td>648</td>\n",
       "      <td>250</td>\n",
       "      <td>V27</td>\n",
       "    </tr>\n",
       "    <tr>\n",
       "      <th>3</th>\n",
       "      <td>8</td>\n",
       "      <td>250.43</td>\n",
       "      <td>403</td>\n",
       "    </tr>\n",
       "    <tr>\n",
       "      <th>4</th>\n",
       "      <td>197</td>\n",
       "      <td>157</td>\n",
       "      <td>250</td>\n",
       "    </tr>\n",
       "  </tbody>\n",
       "</table>\n",
       "</div>"
      ],
      "text/plain": [
       "   diag_1  diag_2 diag_3\n",
       "0  250.83     NaN    NaN\n",
       "1     276  250.01    255\n",
       "2     648     250    V27\n",
       "3       8  250.43    403\n",
       "4     197     157    250"
      ]
     },
     "execution_count": 31,
     "metadata": {},
     "output_type": "execute_result"
    }
   ],
   "source": [
    "df[['diag_1', 'diag_2', 'diag_3']].head()"
   ]
  },
  {
   "cell_type": "code",
   "execution_count": 32,
   "id": "41d9eb57-e1f0-45e6-89fc-ea2aac3f9fd6",
   "metadata": {},
   "outputs": [],
   "source": [
    "df[['diag_1', 'diag_2', 'diag_3']] = df[['diag_1', 'diag_2', 'diag_3']].applymap(lambda x: float(re.sub('\\D', '', x)) \n",
    "                                                                                 if isinstance(x, str) else x)"
   ]
  },
  {
   "cell_type": "code",
   "execution_count": 33,
   "id": "8a6f6652-5836-4c30-878a-fd7dc089e037",
   "metadata": {},
   "outputs": [
    {
     "data": {
      "text/plain": [
       "diag_1      21\n",
       "diag_2     358\n",
       "diag_3    1423\n",
       "dtype: int64"
      ]
     },
     "execution_count": 33,
     "metadata": {},
     "output_type": "execute_result"
    }
   ],
   "source": [
    "df[['diag_1', 'diag_2', 'diag_3']].isnull().sum()"
   ]
  },
  {
   "cell_type": "code",
   "execution_count": 34,
   "id": "5fbf7d30-1686-4c17-8c97-dd4fdb0d3550",
   "metadata": {},
   "outputs": [
    {
     "data": {
      "text/html": [
       "<div>\n",
       "<style scoped>\n",
       "    .dataframe tbody tr th:only-of-type {\n",
       "        vertical-align: middle;\n",
       "    }\n",
       "\n",
       "    .dataframe tbody tr th {\n",
       "        vertical-align: top;\n",
       "    }\n",
       "\n",
       "    .dataframe thead th {\n",
       "        text-align: right;\n",
       "    }\n",
       "</style>\n",
       "<table border=\"1\" class=\"dataframe\">\n",
       "  <thead>\n",
       "    <tr style=\"text-align: right;\">\n",
       "      <th></th>\n",
       "      <th>diag_1</th>\n",
       "      <th>diag_2</th>\n",
       "      <th>diag_3</th>\n",
       "    </tr>\n",
       "  </thead>\n",
       "  <tbody>\n",
       "    <tr>\n",
       "      <th>0</th>\n",
       "      <td>25083.0</td>\n",
       "      <td>NaN</td>\n",
       "      <td>NaN</td>\n",
       "    </tr>\n",
       "    <tr>\n",
       "      <th>1</th>\n",
       "      <td>276.0</td>\n",
       "      <td>25001.0</td>\n",
       "      <td>255.0</td>\n",
       "    </tr>\n",
       "    <tr>\n",
       "      <th>2</th>\n",
       "      <td>648.0</td>\n",
       "      <td>250.0</td>\n",
       "      <td>27.0</td>\n",
       "    </tr>\n",
       "    <tr>\n",
       "      <th>3</th>\n",
       "      <td>8.0</td>\n",
       "      <td>25043.0</td>\n",
       "      <td>403.0</td>\n",
       "    </tr>\n",
       "    <tr>\n",
       "      <th>4</th>\n",
       "      <td>197.0</td>\n",
       "      <td>157.0</td>\n",
       "      <td>250.0</td>\n",
       "    </tr>\n",
       "  </tbody>\n",
       "</table>\n",
       "</div>"
      ],
      "text/plain": [
       "    diag_1   diag_2  diag_3\n",
       "0  25083.0      NaN     NaN\n",
       "1    276.0  25001.0   255.0\n",
       "2    648.0    250.0    27.0\n",
       "3      8.0  25043.0   403.0\n",
       "4    197.0    157.0   250.0"
      ]
     },
     "execution_count": 34,
     "metadata": {},
     "output_type": "execute_result"
    }
   ],
   "source": [
    "df[['diag_1', 'diag_2', 'diag_3']].head()"
   ]
  },
  {
   "cell_type": "code",
   "execution_count": 35,
   "id": "ee55ee9a-f65e-4f28-83ad-61547e85edcf",
   "metadata": {},
   "outputs": [],
   "source": [
    "# Make id columns as string\n",
    "\n",
    "df[['admission_type_id',\n",
    "    'discharge_disposition_id',\n",
    "    'admission_source_id']]= df[['admission_type_id','discharge_disposition_id','admission_source_id']].astype('str')"
   ]
  },
  {
   "cell_type": "markdown",
   "id": "383f1168-eea4-4f89-b620-81600042c100",
   "metadata": {},
   "source": [
    "----"
   ]
  },
  {
   "cell_type": "markdown",
   "id": "8eba53ff-3640-4da4-b095-502785a1d4ce",
   "metadata": {},
   "source": [
    "# Modelling"
   ]
  },
  {
   "cell_type": "markdown",
   "id": "ab80ff94-6ef5-4848-ad40-e04ef20368e5",
   "metadata": {},
   "source": [
    "## Define variables"
   ]
  },
  {
   "cell_type": "code",
   "execution_count": 36,
   "id": "ccdeeb6b-9bbf-40fa-8eb3-e2529d443d31",
   "metadata": {},
   "outputs": [],
   "source": [
    "target = 'readmitted'\n",
    "not_input = ['readmitted', 'patient_nbr', 'encounter_id']\n",
    "input_features = [column for column in df.columns if column not in not_input]\n",
    "cat_features= list(df[input_features].select_dtypes(include='object').columns)"
   ]
  },
  {
   "cell_type": "code",
   "execution_count": 37,
   "id": "028eb62a-36f8-41e2-bb10-a0fd08d0543d",
   "metadata": {},
   "outputs": [
    {
     "data": {
      "text/plain": [
       "0    0.539119\n",
       "1    0.460881\n",
       "Name: readmitted, dtype: float64"
      ]
     },
     "execution_count": 37,
     "metadata": {},
     "output_type": "execute_result"
    }
   ],
   "source": [
    "df.readmitted.value_counts(dropna=False)/df.shape[0]"
   ]
  },
  {
   "cell_type": "markdown",
   "id": "1492f3dd-02f0-4874-8553-cbcc6481ceda",
   "metadata": {},
   "source": [
    "## Train Test Split"
   ]
  },
  {
   "cell_type": "code",
   "execution_count": 38,
   "id": "efd4a1c2-894d-44ac-8594-11d12dd481f0",
   "metadata": {},
   "outputs": [],
   "source": [
    "y = df.readmitted\n",
    "x = df[input_features]\n",
    "\n",
    "X_train, X_test, y_train, y_test = train_test_split(x, y, \n",
    "                                                    train_size= 0.8, \n",
    "                                                    stratify = y,\n",
    "                                                    random_state=10)"
   ]
  },
  {
   "cell_type": "code",
   "execution_count": 39,
   "id": "fd67e0ef-9132-4627-95e0-8db29c2c7658",
   "metadata": {},
   "outputs": [],
   "source": [
    "pool_train= Pool(data= X_train,\n",
    "                 label=y_train,\n",
    "                 cat_features=cat_features)\n",
    "\n",
    "pool_test=  Pool(data= X_test,\n",
    "                 label=y_test,\n",
    "                 cat_features=cat_features)\n",
    "                 "
   ]
  },
  {
   "cell_type": "markdown",
   "id": "c6152c4b-c3ac-46da-a8f3-eee6609196b1",
   "metadata": {},
   "source": [
    "## Train CatBoost Model"
   ]
  },
  {
   "cell_type": "code",
   "execution_count": 40,
   "id": "8aa72f07-bfeb-4130-a847-4048d9a7f5c9",
   "metadata": {},
   "outputs": [],
   "source": [
    "model= CatBoostClassifier(max_depth=5,\n",
    "                         random_state=1,\n",
    "                         eval_metric='Accuracy'\n",
    "                         )"
   ]
  },
  {
   "cell_type": "code",
   "execution_count": 41,
   "id": "82355d23-baab-4ac1-8726-c61e60646cea",
   "metadata": {},
   "outputs": [
    {
     "name": "stdout",
     "output_type": "stream",
     "text": [
      "Learning rate set to 0.09394\n",
      "0:\tlearn: 0.6217142\ttest: 0.6303921\tbest: 0.6303921 (0)\ttotal: 182ms\tremaining: 3m 1s\n",
      "100:\tlearn: 0.6462561\ttest: 0.6488160\tbest: 0.6491599 (98)\ttotal: 15.6s\tremaining: 2m 19s\n",
      "200:\tlearn: 0.6558493\ttest: 0.6504864\tbest: 0.6513216 (181)\ttotal: 30.6s\tremaining: 2m 1s\n",
      "300:\tlearn: 0.6609099\ttest: 0.6513216\tbest: 0.6514690 (284)\ttotal: 44.5s\tremaining: 1m 43s\n",
      "400:\tlearn: 0.6656144\ttest: 0.6516655\tbest: 0.6517638 (390)\ttotal: 58.5s\tremaining: 1m 27s\n",
      "500:\tlearn: 0.6686975\ttest: 0.6528938\tbest: 0.6528938 (500)\ttotal: 1m 12s\tremaining: 1m 12s\n",
      "600:\tlearn: 0.6705891\ttest: 0.6525007\tbest: 0.6536307 (537)\ttotal: 1m 26s\tremaining: 57.4s\n",
      "700:\tlearn: 0.6731809\ttest: 0.6533360\tbest: 0.6536307 (537)\ttotal: 1m 41s\tremaining: 43.2s\n",
      "800:\tlearn: 0.6753304\ttest: 0.6526481\tbest: 0.6536307 (537)\ttotal: 1m 56s\tremaining: 29s\n",
      "900:\tlearn: 0.6772097\ttest: 0.6532868\tbest: 0.6536799 (895)\ttotal: 2m 13s\tremaining: 14.7s\n",
      "999:\tlearn: 0.6799121\ttest: 0.6531886\tbest: 0.6539746 (941)\ttotal: 2m 33s\tremaining: 0us\n",
      "\n",
      "bestTest = 0.6539746487\n",
      "bestIteration = 941\n",
      "\n",
      "Shrink model to first 942 iterations.\n"
     ]
    },
    {
     "data": {
      "text/plain": [
       "<catboost.core.CatBoostClassifier at 0x1dc1995f6a0>"
      ]
     },
     "execution_count": 41,
     "metadata": {},
     "output_type": "execute_result"
    }
   ],
   "source": [
    "model.fit(pool_train,\n",
    "          use_best_model=True,\n",
    "          verbose=100,\n",
    "          eval_set=pool_test)"
   ]
  },
  {
   "cell_type": "markdown",
   "id": "78d27093-6d66-4dfd-894a-185986499ee4",
   "metadata": {},
   "source": [
    "---"
   ]
  },
  {
   "cell_type": "markdown",
   "id": "70e4de4c-31f3-4bf8-9ceb-f2907a62810a",
   "metadata": {},
   "source": [
    "# Save Model and the Data"
   ]
  },
  {
   "cell_type": "code",
   "execution_count": 42,
   "id": "5c3eec1b-06fa-4b61-8ec9-e0e6cc2ab859",
   "metadata": {},
   "outputs": [
    {
     "name": "stdout",
     "output_type": "stream",
     "text": [
      "Wall time: 602 ms\n"
     ]
    }
   ],
   "source": [
    "%%time\n",
    "\n",
    "df.drop_duplicates(subset='patient_nbr',keep='last').to_parquet('./artifacts/demo_data.pq')\n",
    "model.save_model('./artifacts/scoring_model.cbm')"
   ]
  },
  {
   "cell_type": "code",
   "execution_count": 43,
   "id": "9dae39da-2d12-44cc-af0c-1dec4263868f",
   "metadata": {},
   "outputs": [],
   "source": [
    "model.save_model('./scoring_model.pmml')"
   ]
  },
  {
   "cell_type": "markdown",
   "id": "c7bb45bd-1eb7-49ed-8a41-eb005269a8d7",
   "metadata": {},
   "source": [
    "---"
   ]
  },
  {
   "cell_type": "code",
   "execution_count": 44,
   "id": "79ccefb5-a4f8-4d56-83de-6751602c966d",
   "metadata": {},
   "outputs": [],
   "source": [
    "import shap"
   ]
  },
  {
   "cell_type": "code",
   "execution_count": 45,
   "id": "0c07a7cf-96c1-44fb-b73b-bc99933b3e9d",
   "metadata": {},
   "outputs": [
    {
     "data": {
      "text/plain": [
       "'0.40.0'"
      ]
     },
     "execution_count": 45,
     "metadata": {},
     "output_type": "execute_result"
    }
   ],
   "source": [
    "shap.__version__"
   ]
  },
  {
   "cell_type": "code",
   "execution_count": 46,
   "id": "ece3507a-c843-4fdb-8c6c-f3e02883697b",
   "metadata": {},
   "outputs": [
    {
     "data": {
      "image/png": "[encoded data removed]",
      "text/plain": [
       "<Figure size 576x432 with 1 Axes>"
      ]
     },
     "metadata": {
      "needs_background": "light"
     },
     "output_type": "display_data"
    }
   ],
   "source": [
    "exp= shap.TreeExplainer(model)\n",
    "vals= exp.shap_values(X_test[model.feature_names_])\n",
    "\n",
    "shap.summary_plot(vals,\n",
    "                  X_test[model.feature_names_],\n",
    "                  max_display= 15,\n",
    "                  plot_type='bar',\n",
    "                  plot_size=.3)"
   ]
  },
  {
   "cell_type": "code",
   "execution_count": 47,
   "id": "e55d7664-d642-44d2-a978-74b73aff0a6f",
   "metadata": {},
   "outputs": [
    {
     "data": {
      "image/png": "[encoded data removed]",
      "text/plain": [
       "<Figure size 576x432 with 2 Axes>"
      ]
     },
     "metadata": {
      "needs_background": "light"
     },
     "output_type": "display_data"
    }
   ],
   "source": [
    "shap.summary_plot(vals,\n",
    "                  X_test[model.feature_names_],\n",
    "                  max_display= 15,\n",
    "                  plot_type='dot',\n",
    "                  plot_size=.3)"
   ]
  },
  {
   "cell_type": "code",
   "execution_count": 50,
   "id": "0527d841-2739-4bd4-8c47-5d251798dcc2",
   "metadata": {},
   "outputs": [
    {
     "data": {
      "text/html": [
       "<div>\n",
       "<style scoped>\n",
       "    .dataframe tbody tr th:only-of-type {\n",
       "        vertical-align: middle;\n",
       "    }\n",
       "\n",
       "    .dataframe tbody tr th {\n",
       "        vertical-align: top;\n",
       "    }\n",
       "\n",
       "    .dataframe thead th {\n",
       "        text-align: right;\n",
       "    }\n",
       "</style>\n",
       "<table border=\"1\" class=\"dataframe\">\n",
       "  <thead>\n",
       "    <tr style=\"text-align: right;\">\n",
       "      <th></th>\n",
       "      <th>gender</th>\n",
       "      <th>age</th>\n",
       "      <th>weight</th>\n",
       "      <th>admission_type_id</th>\n",
       "      <th>discharge_disposition_id</th>\n",
       "      <th>admission_source_id</th>\n",
       "      <th>time_in_hospital</th>\n",
       "      <th>num_lab_procedures</th>\n",
       "      <th>num_procedures</th>\n",
       "      <th>num_medications</th>\n",
       "      <th>...</th>\n",
       "      <th>citoglipton</th>\n",
       "      <th>insulin</th>\n",
       "      <th>glyburide_metformin</th>\n",
       "      <th>glipizide_metformin</th>\n",
       "      <th>glimepiride_pioglitazone</th>\n",
       "      <th>metformin_rosiglitazone</th>\n",
       "      <th>metformin_pioglitazone</th>\n",
       "      <th>change</th>\n",
       "      <th>diabetesmed</th>\n",
       "      <th>race</th>\n",
       "    </tr>\n",
       "  </thead>\n",
       "  <tbody>\n",
       "    <tr>\n",
       "      <th>8163</th>\n",
       "      <td>Female</td>\n",
       "      <td>85</td>\n",
       "      <td>?</td>\n",
       "      <td>6</td>\n",
       "      <td>1</td>\n",
       "      <td>7</td>\n",
       "      <td>3</td>\n",
       "      <td>49</td>\n",
       "      <td>0</td>\n",
       "      <td>8</td>\n",
       "      <td>...</td>\n",
       "      <td>No</td>\n",
       "      <td>No</td>\n",
       "      <td>No</td>\n",
       "      <td>No</td>\n",
       "      <td>No</td>\n",
       "      <td>No</td>\n",
       "      <td>No</td>\n",
       "      <td>No</td>\n",
       "      <td>No</td>\n",
       "      <td>Caucasian</td>\n",
       "    </tr>\n",
       "  </tbody>\n",
       "</table>\n",
       "<p>1 rows × 45 columns</p>\n",
       "</div>"
      ],
      "text/plain": [
       "      gender  age weight admission_type_id discharge_disposition_id  \\\n",
       "8163  Female   85      ?                 6                        1   \n",
       "\n",
       "     admission_source_id  time_in_hospital  num_lab_procedures  \\\n",
       "8163                   7                 3                  49   \n",
       "\n",
       "      num_procedures  num_medications  ...  citoglipton  insulin  \\\n",
       "8163               0                8  ...           No       No   \n",
       "\n",
       "      glyburide_metformin  glipizide_metformin  glimepiride_pioglitazone  \\\n",
       "8163                   No                   No                        No   \n",
       "\n",
       "      metformin_rosiglitazone  metformin_pioglitazone  change  diabetesmed  \\\n",
       "8163                       No                      No      No           No   \n",
       "\n",
       "           race  \n",
       "8163  Caucasian  \n",
       "\n",
       "[1 rows x 45 columns]"
      ]
     },
     "execution_count": 50,
     "metadata": {},
     "output_type": "execute_result"
    }
   ],
   "source": [
    "X_test.head(1)"
   ]
  },
  {
   "cell_type": "code",
   "execution_count": 49,
   "id": "ae3413d3-a755-42e9-8c19-6ba6a43580d7",
   "metadata": {},
   "outputs": [
    {
     "data": {
      "image/png": "[encoded data removed]",
      "text/plain": [
       "<Figure size 576x468 with 3 Axes>"
      ]
     },
     "metadata": {},
     "output_type": "display_data"
    }
   ],
   "source": [
    "explainer   = shap.TreeExplainer(model, feature_perturbation=\"tree_path_dependent\")\n",
    "shap_values = explainer(X_test.head(1))\n",
    "\n",
    "plt.figure(figsize=(10,10))\n",
    "fig= shap.plots.waterfall(shap_values[0], max_display=10)\n",
    "plt.show()"
   ]
  }
 ],
 "metadata": {
  "kernelspec": {
   "display_name": "Python 3 (ipykernel)",
   "language": "python",
   "name": "python3"
  },
  "language_info": {
   "codemirror_mode": {
    "name": "ipython",
    "version": 3
   },
   "file_extension": ".py",
   "mimetype": "text/x-python",
   "name": "python",
   "nbconvert_exporter": "python",
   "pygments_lexer": "ipython3",
   "version": "3.11.1"
  }
 },
 "nbformat": 4,
 "nbformat_minor": 5
}
